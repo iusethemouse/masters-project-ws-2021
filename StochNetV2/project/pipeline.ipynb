{
 "cells": [
  {
   "cell_type": "code",
   "execution_count": 1,
   "id": "fd7d9346",
   "metadata": {},
   "outputs": [],
   "source": [
    "# magic\n",
    "%load_ext autoreload\n",
    "%autoreload 2"
   ]
  },
  {
   "cell_type": "code",
   "execution_count": 2,
   "id": "4ea51cd9",
   "metadata": {},
   "outputs": [],
   "source": [
    "# initialise\n",
    "\n",
    "import numpy as np\n",
    "from pathlib import Path, __file__\n",
    "import pandas as pd\n",
    "import pickle\n",
    "import gillespy2 as gp\n",
    "import matplotlib.pyplot as plt\n",
    "import json\n",
    "import os\n",
    "from time import time\n",
    "\n",
    "from importlib import import_module\n",
    "\n",
    "from stochnet_v2.dataset.dataset import DataTransformer, HDF5Dataset\n",
    "from stochnet_v2.static_classes.model import StochNet\n",
    "from stochnet_v2.static_classes.trainer import ToleranceDropLearningStrategy, Trainer\n",
    "from stochnet_v2.utils.file_organisation import ProjectFileExplorer\n",
    "from stochnet_v2.utils.util import plot_random_traces\n",
    "# from stochnet_v2.utils.util import generate_gillespy_traces, plot_random_traces\n",
    "from stochnet_v2.utils.util import merge_species_and_param_settings\n",
    "\n",
    "from simulation_gillespy import build_simulation_dataset\n",
    "from util import generate_gillespy_traces"
   ]
  },
  {
   "cell_type": "code",
   "execution_count": 3,
   "id": "ffe04d68",
   "metadata": {},
   "outputs": [],
   "source": [
    "model_name = 'SIR'\n",
    "timestep = 0.5\n",
    "endtime = 20.0\n",
    "dataset_id = 1\n",
    "model_id = 1\n",
    "nb_features = 3\n",
    "# params_to_randomize = ['a11', 'a12', 'a21', 'b1']\n",
    "params_to_randomize = ['beta', 'gamma']"
   ]
  },
  {
   "cell_type": "code",
   "execution_count": 4,
   "id": "93f14d7d",
   "metadata": {},
   "outputs": [],
   "source": [
    "project_folder = Path('').parent.resolve()/model_name\n",
    "project_explorer = ProjectFileExplorer(project_folder)\n",
    "dataset_explorer = project_explorer.get_dataset_file_explorer(timestep, dataset_id)\n",
    "model_explorer = project_explorer.get_model_file_explorer(timestep, model_id)\n",
    "\n",
    "body_config_path = model_explorer.body_config_fp\n",
    "mixture_config_path = model_explorer.mixture_config_fp"
   ]
  },
  {
   "cell_type": "code",
   "execution_count": 5,
   "id": "ddfe26a2",
   "metadata": {},
   "outputs": [],
   "source": [
    "CRN_module = import_module(\"stochnet_v2.CRN_models.\" + model_name)\n",
    "CRN_class = getattr(CRN_module, model_name)"
   ]
  },
  {
   "cell_type": "code",
   "execution_count": 6,
   "id": "110d0f6a",
   "metadata": {},
   "outputs": [
    {
     "name": "stdout",
     "output_type": "stream",
     "text": [
      "settings shape: (15, 3)\n",
      "Saving settings to C:\\Users\\Ivan\\Documents\\masters-project\\StochNetV2\\project\\SIR\\dataset/data\\0.5\\1\\settings.npy\n"
     ]
    }
   ],
   "source": [
    "# generate traces (the big old problem)\n",
    "\n",
    "nb_settings = 15\n",
    "nb_trajectories = 50\n",
    "\n",
    "nb_histogram_settings = 15\n",
    "nb_histogram_trajectories = 50\n",
    "\n",
    "\n",
    "settings = CRN_class.get_initial_settings(nb_settings)\n",
    "print(f\"settings shape: {settings.shape}\")\n",
    "print(f\"Saving settings to {dataset_explorer.settings_fp}\")\n",
    "np.save(dataset_explorer.settings_fp, settings)"
   ]
  },
  {
   "cell_type": "code",
   "execution_count": 7,
   "id": "54f85770",
   "metadata": {
    "scrolled": false
   },
   "outputs": [
    {
     "name": "stdout",
     "output_type": "stream",
     "text": [
      "dataset.simulation - INFO -  ===== CPU Cores used for simulations: 9 =====\n",
      "dataset.simulation - INFO - >>>> starting concatenate_simulations...\n"
     ]
    },
    {
     "name": "stderr",
     "output_type": "stream",
     "text": [
      "100%|███████████████████████████████████████████████████████████████████████████| 15/15 [00:00<00:00, 129.43it/s]"
     ]
    },
    {
     "name": "stdout",
     "output_type": "stream",
     "text": [
      "dataset.simulation - INFO - >>>> done...\n",
      "Saving dataset to C:\\Users\\Ivan\\Documents\\masters-project\\StochNetV2\\project\\SIR\\dataset/data\\0.5\\1\\dataset.npy\n"
     ]
    },
    {
     "name": "stderr",
     "output_type": "stream",
     "text": [
      "\n"
     ]
    }
   ],
   "source": [
    "dataset = build_simulation_dataset(\n",
    "    model_name,                              # X16\n",
    "    nb_settings,                             # 15\n",
    "    nb_trajectories,                         # 10\n",
    "    timestep,                                # 20\n",
    "    endtime,                                 # 200\n",
    "    dataset_explorer.dataset_folder,         # X16\\dataset\\data\\20.0\\2\\\n",
    "    params_to_randomize=params_to_randomize, # ['a11', 'a12', 'a21', 'b1']\n",
    "    how='concat'\n",
    ")\n",
    "\n",
    "print(f\"Saving dataset to {dataset_explorer.dataset_fp}\")\n",
    "np.save(dataset_explorer.dataset_fp, dataset)"
   ]
  },
  {
   "cell_type": "code",
   "execution_count": 8,
   "id": "24798e29",
   "metadata": {
    "scrolled": true
   },
   "outputs": [
    {
     "data": {
      "text/plain": [
       "(750, 41, 6)"
      ]
     },
     "execution_count": 8,
     "metadata": {},
     "output_type": "execute_result"
    }
   ],
   "source": [
    "dataset.shape"
   ]
  },
  {
   "cell_type": "code",
   "execution_count": 9,
   "id": "9309fb37",
   "metadata": {},
   "outputs": [
    {
     "name": "stdout",
     "output_type": "stream",
     "text": [
      "histogram_settings shape: (15, 3)\n",
      "Saving histogram_settings to C:\\Users\\Ivan\\Documents\\masters-project\\StochNetV2\\project\\SIR\\dataset/data\\0.5\\1\\histogram_settings.npy\n",
      "dataset.simulation - INFO -  ===== CPU Cores used for simulations: 9 =====\n",
      "dataset.simulation - INFO - >>>> starting stack_simulations...\n"
     ]
    },
    {
     "name": "stderr",
     "output_type": "stream",
     "text": [
      "100%|███████████████████████████████████████████████████████████████████████████| 15/15 [00:00<00:00, 129.39it/s]"
     ]
    },
    {
     "name": "stdout",
     "output_type": "stream",
     "text": [
      "dataset.simulation - INFO - >>>> done...\n",
      "Saving histogram_dataset to C:\\Users\\Ivan\\Documents\\masters-project\\StochNetV2\\project\\SIR\\dataset/data\\0.5\\1\\histogram_dataset.npy\n"
     ]
    },
    {
     "name": "stderr",
     "output_type": "stream",
     "text": [
      "\n"
     ]
    }
   ],
   "source": [
    "histogram_settings = CRN_class.get_initial_settings(nb_histogram_settings)\n",
    "print(f\"histogram_settings shape: {histogram_settings.shape}\")\n",
    "print(f\"Saving histogram_settings to {dataset_explorer.histogram_settings_fp}\")\n",
    "np.save(dataset_explorer.histogram_settings_fp, histogram_settings)\n",
    "\n",
    "histogram_dataset = build_simulation_dataset(\n",
    "    model_name,\n",
    "    nb_histogram_settings,\n",
    "    nb_histogram_trajectories,\n",
    "    timestep,\n",
    "    endtime,\n",
    "    dataset_explorer.dataset_folder,\n",
    "    params_to_randomize=params_to_randomize,\n",
    "    prefix='histogram_partial_',\n",
    "    how='stack',\n",
    "    settings_filename=os.path.basename(dataset_explorer.histogram_settings_fp),\n",
    ")\n",
    "print(f\"Saving histogram_dataset to {dataset_explorer.histogram_dataset_fp}\")\n",
    "np.save(dataset_explorer.histogram_dataset_fp, histogram_dataset)"
   ]
  },
  {
   "cell_type": "code",
   "execution_count": 10,
   "id": "50f9ccfa",
   "metadata": {},
   "outputs": [
    {
     "data": {
      "image/png": "[encoded data removed]",
      "text/plain": [
       "<Figure size 1152x720 with 1 Axes>"
      ]
     },
     "metadata": {
      "needs_background": "light"
     },
     "output_type": "display_data"
    }
   ],
   "source": [
    "n = 10\n",
    "\n",
    "plt.figure(figsize=(16, 10))\n",
    "plot_random_traces(dataset, 1, labels=CRN_class.get_species_names() + params_to_randomize)\n",
    "plt.legend()\n",
    "plot_random_traces(dataset, n - 1, labels=CRN_class.get_species_names() + params_to_randomize)"
   ]
  },
  {
   "cell_type": "code",
   "execution_count": 11,
   "id": "a0f7860a",
   "metadata": {},
   "outputs": [],
   "source": [
    "dt = DataTransformer(\n",
    "    dataset_explorer.dataset_fp,\n",
    "    with_timestamps=True,\n",
    "    nb_randomized_params=len(params_to_randomize)\n",
    ")"
   ]
  },
  {
   "cell_type": "code",
   "execution_count": 12,
   "id": "7cc040e8",
   "metadata": {},
   "outputs": [
    {
     "name": "stdout",
     "output_type": "stream",
     "text": [
      "dataset.dataset - INFO - Fitting scaler, positivity=False\n"
     ]
    },
    {
     "name": "stderr",
     "output_type": "stream",
     "text": [
      "100%|█████████████████████████████████████████████████████████████████████████████| 7/7 [00:00<00:00, 448.05it/s]"
     ]
    },
    {
     "name": "stdout",
     "output_type": "stream",
     "text": [
      "dataset.dataset - INFO - Train data saved to C:\\Users\\Ivan\\Documents\\masters-project\\StochNetV2\\project\\SIR\\dataset/data\\0.5\\1\\train_rescaled.hdf5, \n",
      "Shapes: x: (24000, 1, 5), y: (24000, 3)\n",
      "dataset.dataset - INFO - Test data saved to C:\\Users\\Ivan\\Documents\\masters-project\\StochNetV2\\project\\SIR\\dataset/data\\0.5\\1\\test_rescaled.hdf5, \n",
      "Shapes: x: (6000, 1, 5), y: (6000, 3)\n"
     ]
    },
    {
     "name": "stderr",
     "output_type": "stream",
     "text": [
      "\n"
     ]
    }
   ],
   "source": [
    "np.random.seed(11)\n",
    "\n",
    "dt.save_data_for_ml_hdf5(\n",
    "    dataset_folder=dataset_explorer.dataset_folder,\n",
    "    nb_past_timesteps=1,\n",
    "    test_fraction=0.2,\n",
    "    keep_timestamps=False,\n",
    "    rescale=True,\n",
    "    positivity=False,\n",
    "    shuffle=True,\n",
    "    slice_size=100,\n",
    "    force_rewrite=True\n",
    ")"
   ]
  },
  {
   "cell_type": "code",
   "execution_count": 13,
   "id": "f384787e",
   "metadata": {},
   "outputs": [
    {
     "data": {
      "text/plain": [
       "(array([[ 68.00000119, 194.99999895,  40.00000043,   4.17707685,\n",
       "           1.34944904]]),\n",
       " array([ 37.00000138, 241.99999812,  23.99999999]))"
      ]
     },
     "execution_count": 13,
     "metadata": {},
     "output_type": "execute_result"
    }
   ],
   "source": [
    "import h5py\n",
    "\n",
    "data_file = h5py.File(dataset_explorer.train_rescaled_fp, 'r')\n",
    "\n",
    "x_data = data_file['x']\n",
    "y_data = data_file['y']\n",
    "\n",
    "i = 200\n",
    "\n",
    "dt.scale_back(x_data[i]), dt.scale_back(y_data[i])"
   ]
  },
  {
   "cell_type": "code",
   "execution_count": 14,
   "id": "fb34a45c",
   "metadata": {},
   "outputs": [
    {
     "name": "stdout",
     "output_type": "stream",
     "text": [
      "(64, 1, 5), (64, 3)\n",
      "(64, 1, 5), (64, 3)\n",
      "(64, 1, 5), (64, 3)\n",
      "(64, 1, 5), (64, 3)\n",
      "(64, 1, 5), (64, 3)\n",
      "(64, 1, 5), (64, 3)\n",
      "(64, 1, 5), (64, 3)\n",
      "(64, 1, 5), (64, 3)\n",
      "(64, 1, 5), (64, 3)\n",
      "(64, 1, 5), (64, 3)\n",
      "(64, 1, 5), (64, 3)\n"
     ]
    }
   ],
   "source": [
    "ds = HDF5Dataset(dataset_explorer.train_rescaled_fp, 64)\n",
    "\n",
    "c = 0\n",
    "\n",
    "for x, y in ds:\n",
    "    print(f'{x.shape}, {y.shape}')\n",
    "    c += 1\n",
    "    if c > 10:\n",
    "        break\n",
    "    else:\n",
    "        continue\n",
    "    break"
   ]
  },
  {
   "cell_type": "code",
   "execution_count": 15,
   "id": "d4e7fe9c",
   "metadata": {},
   "outputs": [],
   "source": [
    "# configure the model\n",
    "\n",
    "body_hidden_size = 30\n",
    "body_n_blocks = 2\n",
    "body_activation = \"relu\"\n",
    "body_regularizer = \"none\"\n",
    "body_kernel_constraint = \"none\"\n",
    "body_bias_constraint = \"none\"\n",
    "body_kernel_regularizer = \"l2\"\n",
    "body_bias_regularizer = \"l2\"\n",
    "\n",
    "\n",
    "components_hidden_size = \"none\"\n",
    "n_normal_diag = 6\n",
    "n_normal_tril = 0\n",
    "n_log_normal_tril = 0\n",
    "components_activation = \"none\"\n",
    "components_regularizer = \"none\"\n",
    "components_kernel_constraint = \"none\"\n",
    "components_bias_constraint = \"none\"\n",
    "components_kernel_regularizer = \"l2\"\n",
    "components_bias_regularizer = \"l2\"\n",
    "\n",
    "\n",
    "body_config = {\n",
    "    \"body_fn_name\": \"body_b\",\n",
    "    \"block_name\": \"a\",\n",
    "    \"hidden_size\": body_hidden_size,\n",
    "    \"n_blocks\": body_n_blocks,\n",
    "    \"use_batch_norm\": False,\n",
    "    \"activation\": body_activation,\n",
    "    \"activity_regularizer\": body_regularizer,\n",
    "    \"kernel_constraint\": body_kernel_constraint,\n",
    "    \"kernel_regularizer\": body_kernel_regularizer,\n",
    "    \"bias_constraint\": body_bias_constraint,\n",
    "    \"bias_regularizer\": body_bias_regularizer\n",
    "}\n",
    "\n",
    "categorical_config = {\n",
    "    \"hidden_size\": components_hidden_size,\n",
    "    \"activation\": components_activation,\n",
    "    \"coeff_regularizer\": \"none\",\n",
    "    \"kernel_constraint\": components_kernel_constraint,  # \"maxnorm\"\n",
    "    \"kernel_regularizer\": components_kernel_regularizer,\n",
    "    \"bias_constraint\": components_bias_constraint,  # \"maxnorm\"\n",
    "    \"bias_regularizer\": components_bias_regularizer\n",
    "}\n",
    "\n",
    "normal_diag_config = {\n",
    "    \"hidden_size\": components_hidden_size,\n",
    "    \"activation\": components_activation,\n",
    "    \"mu_regularizer\": components_regularizer,\n",
    "    \"diag_regularizer\": \"l2\",\n",
    "    \"kernel_constraint\": components_kernel_constraint,\n",
    "    \"kernel_regularizer\": components_kernel_regularizer,\n",
    "    \"bias_constraint\": components_bias_constraint,\n",
    "    \"bias_regularizer\": components_bias_regularizer\n",
    "}\n",
    "\n",
    "normal_tril_config = {\n",
    "    \"hidden_size\": components_hidden_size,\n",
    "    \"activation\": components_activation,\n",
    "    \"mu_regularizer\": components_regularizer,\n",
    "    \"diag_regularizer\": components_regularizer,\n",
    "    \"sub_diag_regularizer\": components_regularizer,\n",
    "    \"kernel_constraint\": components_kernel_constraint,\n",
    "    \"kernel_regularizer\": components_kernel_regularizer,\n",
    "    \"bias_constraint\": components_bias_constraint,\n",
    "    \"bias_regularizer\": components_bias_regularizer\n",
    "}\n",
    "\n",
    "log_normal_tril_config = {\n",
    "    \"hidden_size\": components_hidden_size,\n",
    "    \"activation\": components_activation,\n",
    "    \"mu_regularizer\": components_regularizer,\n",
    "    \"diag_regularizer\": components_regularizer,\n",
    "    \"sub_diag_regularizer\": components_regularizer,\n",
    "    \"kernel_constraint\": components_kernel_constraint,\n",
    "    \"kernel_regularizer\": components_kernel_regularizer,\n",
    "    \"bias_constraint\": components_bias_constraint,\n",
    "    \"bias_regularizer\": components_bias_regularizer\n",
    "}"
   ]
  },
  {
   "cell_type": "code",
   "execution_count": 16,
   "id": "c68acee7",
   "metadata": {},
   "outputs": [],
   "source": [
    "# write config files\n",
    "\n",
    "mixture_config = \\\n",
    "[[\"categorical\", categorical_config]] + \\\n",
    "[[\"normal_diag\", normal_diag_config] for i in range(n_normal_diag)] + \\\n",
    "[[\"normal_tril\", normal_tril_config] for i in range(n_normal_tril)] + \\\n",
    "[[\"log_normal_tril\", log_normal_tril_config] for i in range(n_log_normal_tril)]\n",
    "\n",
    "with open(body_config_path, 'w+') as f:\n",
    "    json.dump(body_config, f, indent='\\t')\n",
    "\n",
    "with open(mixture_config_path, 'w+') as f:\n",
    "    json.dump(mixture_config, f, indent='\\t')"
   ]
  },
  {
   "cell_type": "code",
   "execution_count": 20,
   "id": "ceb3de73",
   "metadata": {},
   "outputs": [],
   "source": [
    "# configure the training strategy\n",
    "\n",
    "learning_strategy = ToleranceDropLearningStrategy(\n",
    "    optimizer_type='adam',\n",
    "    initial_lr=1e-4,\n",
    "    lr_decay=0.3,\n",
    "    epochs_tolerance=7,\n",
    "    minimal_lr=1e-7,\n",
    ")\n",
    "\n",
    "n_epochs = 120\n",
    "batch_size = 256\n",
    "add_noise = True\n",
    "stddev = 0.01\n",
    "dataset_kind = 'hdf5'"
   ]
  },
  {
   "cell_type": "code",
   "execution_count": 21,
   "id": "03fa5149",
   "metadata": {},
   "outputs": [
    {
     "name": "stdout",
     "output_type": "stream",
     "text": [
      "static_classes.nn_bodies - INFO - \n",
      " ** Building 'body_b' body, hidden size: 30 \n",
      "    with 2 of 'a' block \n",
      "    activation: relu \n",
      "    activity_regularizer: none \n",
      "    kernel_constraint: none \n",
      "    kernel_regularizer: l2 \n",
      "    bias_constraint: none \n",
      "    bias_regularizer: l2 \n",
      "    use BatchNorm: False \n",
      " ** \n",
      "\n",
      "static_classes.top_layers - DEBUG - Mixture components share nn outputs\n",
      "static_classes.top_layers - DEBUG - base shape: [None, 30]\n",
      "static_classes.top_layers - DEBUG - Using non-nnegative elu activation for diagonal\n",
      "static_classes.top_layers - DEBUG - Using non-nnegative elu activation for diagonal\n",
      "static_classes.top_layers - DEBUG - Using non-nnegative elu activation for diagonal\n",
      "static_classes.top_layers - DEBUG - Using non-nnegative elu activation for diagonal\n",
      "static_classes.top_layers - DEBUG - Using non-nnegative elu activation for diagonal\n",
      "static_classes.top_layers - DEBUG - Using non-nnegative elu activation for diagonal\n",
      "static_classes.model - INFO - Model's graph keys saved at C:\\Users\\Ivan\\Documents\\masters-project\\StochNetV2\\project\\SIR\\models\\0.5\\1\\graph_keys.json\n",
      "static_classes.model - INFO - Model created in normal mode.\n"
     ]
    }
   ],
   "source": [
    "nn = StochNet(\n",
    "    nb_past_timesteps=1,\n",
    "    nb_features=nb_features,\n",
    "    nb_randomized_params=len(params_to_randomize),\n",
    "    project_folder=project_folder,\n",
    "    timestep=timestep,\n",
    "    dataset_id=dataset_id,\n",
    "    model_id=model_id,\n",
    ")"
   ]
  },
  {
   "cell_type": "code",
   "execution_count": 22,
   "id": "6c056b39",
   "metadata": {
    "scrolled": true
   },
   "outputs": [
    {
     "name": "stdout",
     "output_type": "stream",
     "text": [
      "static_classes.trainer - DEBUG - REGULARIZATION_LOSSES:Tensor(\"total_regularization_loss:0\", shape=(), dtype=float32)\n",
      "static_classes.trainer - INFO - Total number of trainable vars 36\n",
      "static_classes.trainer - INFO - Total number of optimizer vars 74\n",
      "static_classes.trainer - INFO - Training...\n",
      "static_classes.trainer - INFO - \n",
      "Epoch: 1\n",
      "tensorflow - WARNING - From C:\\Users\\Ivan\\miniconda3\\envs\\py37-tf1\\lib\\site-packages\\tensorflow_core\\python\\training\\saver.py:963: remove_checkpoint (from tensorflow.python.training.checkpoint_management) is deprecated and will be removed in a future version.\n",
      "Instructions for updating:\n",
      "Use standard file APIs to delete files with this prefix.\n",
      "static_classes.trainer - INFO -  = Minimal loss value = 8.260675430297852,\n",
      " - 93 steps took 36.4 seconds, avg_step_time=0.391\n",
      " - test time: 0.2 seconds\n",
      "static_classes.trainer - INFO - \n",
      "Epoch: 2\n",
      "static_classes.trainer - INFO -  = Minimal loss value = 7.7079057693481445,\n",
      " - 93 steps took 31.6 seconds, avg_step_time=0.340\n",
      " - test time: 0.0 seconds\n",
      "static_classes.trainer - INFO - \n",
      "Epoch: 3\n",
      "static_classes.trainer - INFO -  = Minimal loss value = 7.248265266418457,\n",
      " - 93 steps took 31.1 seconds, avg_step_time=0.335\n",
      " - test time: 0.0 seconds\n",
      "static_classes.trainer - INFO - \n",
      "Epoch: 4\n",
      "static_classes.trainer - INFO -  = Minimal loss value = 6.487385272979736,\n",
      " - 93 steps took 46.5 seconds, avg_step_time=0.500\n",
      " - test time: 0.0 seconds\n",
      "static_classes.trainer - INFO - \n",
      "Epoch: 5\n",
      "static_classes.trainer - INFO -  = Minimal loss value = 5.658027648925781,\n",
      " - 93 steps took 46.2 seconds, avg_step_time=0.496\n",
      " - test time: 0.0 seconds\n",
      "static_classes.trainer - INFO - \n",
      "Epoch: 6\n",
      "static_classes.trainer - INFO -  = Minimal loss value = 4.308056831359863,\n",
      " - 93 steps took 71.7 seconds, avg_step_time=0.771\n",
      " - test time: 0.0 seconds\n",
      "static_classes.trainer - INFO - \n",
      "Epoch: 7\n",
      "static_classes.trainer - INFO -  = Minimal loss value = 2.183605909347534,\n",
      " - 93 steps took 69.7 seconds, avg_step_time=0.750\n",
      " - test time: 0.0 seconds\n",
      "static_classes.trainer - INFO - \n",
      "Epoch: 8\n",
      "static_classes.trainer - INFO -  = Minimal loss value = 0.83540278673172,\n",
      " - 93 steps took 36.7 seconds, avg_step_time=0.395\n",
      " - test time: 0.0 seconds\n",
      "static_classes.trainer - INFO - \n",
      "Epoch: 9\n",
      "static_classes.trainer - INFO -  = Minimal loss value = -0.41200801730155945,\n",
      " - 93 steps took 37.9 seconds, avg_step_time=0.407\n",
      " - test time: 0.0 seconds\n",
      "static_classes.trainer - INFO - \n",
      "Epoch: 10\n",
      "static_classes.trainer - INFO -  = Minimal loss value = -1.0391995906829834,\n",
      " - 93 steps took 16.7 seconds, avg_step_time=0.180\n",
      " - test time: 0.0 seconds\n",
      "static_classes.trainer - INFO - \n",
      "Epoch: 11\n",
      "static_classes.trainer - INFO -  = Minimal loss value = -1.5908055305480957,\n",
      " - 93 steps took 11.5 seconds, avg_step_time=0.124\n",
      " - test time: 0.0 seconds\n",
      "static_classes.trainer - INFO - \n",
      "Epoch: 12\n",
      "static_classes.trainer - INFO -  = Minimal loss value = -2.5034492015838623,\n",
      " - 93 steps took 6.1 seconds, avg_step_time=0.066\n",
      " - test time: 0.0 seconds\n",
      "static_classes.trainer - INFO - \n",
      "Epoch: 13\n",
      "static_classes.trainer - INFO -  = Minimal loss value = -2.5647525787353516,\n",
      " - 93 steps took 3.2 seconds, avg_step_time=0.035\n",
      " - test time: 0.0 seconds\n",
      "static_classes.trainer - INFO - \n",
      "Epoch: 14\n",
      "static_classes.trainer - INFO -  = Minimal loss value = -2.847022533416748,\n",
      " - 93 steps took 5.9 seconds, avg_step_time=0.064\n",
      " - test time: 0.0 seconds\n",
      "static_classes.trainer - INFO - \n",
      "Epoch: 15\n",
      "static_classes.trainer - INFO -  = Minimal loss value = -3.320230007171631,\n",
      " - 93 steps took 21.9 seconds, avg_step_time=0.235\n",
      " - test time: 0.0 seconds\n",
      "static_classes.trainer - INFO - \n",
      "Epoch: 16\n",
      "static_classes.trainer - INFO -  = Minimal loss value = -3.689095973968506,\n",
      " - 93 steps took 9.1 seconds, avg_step_time=0.098\n",
      " - test time: 0.0 seconds\n",
      "static_classes.trainer - INFO - \n",
      "Epoch: 17\n",
      "static_classes.trainer - INFO -  = Minimal loss value = -3.7812843322753906,\n",
      " - 93 steps took 5.7 seconds, avg_step_time=0.061\n",
      " - test time: 0.0 seconds\n",
      "static_classes.trainer - INFO - \n",
      "Epoch: 18\n",
      "static_classes.trainer - INFO -  = Minimal loss value = -4.07412052154541,\n",
      " - 93 steps took 8.9 seconds, avg_step_time=0.096\n",
      " - test time: 0.0 seconds\n",
      "static_classes.trainer - INFO - \n",
      "Epoch: 19\n",
      "static_classes.trainer - INFO -  = Minimal loss value = -4.220886707305908,\n",
      " - 93 steps took 5.9 seconds, avg_step_time=0.063\n",
      " - test time: 0.0 seconds\n",
      "static_classes.trainer - INFO - \n",
      "Epoch: 20\n",
      "static_classes.trainer - INFO -  = Minimal loss value = -4.480949401855469,\n",
      " - 93 steps took 3.4 seconds, avg_step_time=0.037\n",
      " - test time: 0.0 seconds\n",
      "static_classes.trainer - INFO - \n",
      "Epoch: 21\n",
      "static_classes.trainer - INFO -  = Minimal loss value = -4.565465927124023,\n",
      " - 93 steps took 11.6 seconds, avg_step_time=0.125\n",
      " - test time: 0.0 seconds\n",
      "static_classes.trainer - INFO - \n",
      "Epoch: 22\n",
      "static_classes.trainer - INFO -  = Minimal loss value = -4.869000434875488,\n",
      " - 93 steps took 16.4 seconds, avg_step_time=0.177\n",
      " - test time: 0.0 seconds\n",
      "static_classes.trainer - INFO - \n",
      "Epoch: 23\n",
      "static_classes.trainer - INFO -  = Minimal loss value = -4.920283317565918,\n",
      " - 93 steps took 5.9 seconds, avg_step_time=0.064\n",
      " - test time: 0.0 seconds\n",
      "static_classes.trainer - INFO - \n",
      "Epoch: 24\n",
      "static_classes.trainer - INFO -  = Minimal loss value = -5.309416770935059,\n",
      " - 93 steps took 16.3 seconds, avg_step_time=0.175\n",
      " - test time: 0.0 seconds\n",
      "static_classes.trainer - INFO - \n",
      "Epoch: 25\n",
      "static_classes.trainer - INFO -  = Minimal loss value = -5.328849792480469,\n",
      " - 93 steps took 3.4 seconds, avg_step_time=0.037\n",
      " - test time: 0.0 seconds\n",
      "static_classes.trainer - INFO - \n",
      "Epoch: 26\n",
      "static_classes.trainer - INFO -  = Minimal loss value = -5.558874607086182,\n",
      " - 93 steps took 8.5 seconds, avg_step_time=0.091\n",
      " - test time: 0.0 seconds\n",
      "static_classes.trainer - INFO - \n",
      "Epoch: 27\n",
      "static_classes.trainer - INFO -  = Minimal loss value = -5.558874607086182,\n",
      " - 93 steps took 0.6 seconds, avg_step_time=0.007\n",
      " - test time: 0.0 seconds\n",
      "static_classes.trainer - INFO - \n",
      "Epoch: 28\n",
      "static_classes.trainer - INFO -  = Minimal loss value = -5.654402732849121,\n",
      " - 93 steps took 3.0 seconds, avg_step_time=0.032\n",
      " - test time: 0.0 seconds\n",
      "static_classes.trainer - INFO - \n",
      "Epoch: 29\n",
      "static_classes.trainer - INFO -  = Minimal loss value = -5.763553619384766,\n",
      " - 93 steps took 6.1 seconds, avg_step_time=0.066\n",
      " - test time: 0.0 seconds\n",
      "static_classes.trainer - INFO - \n",
      "Epoch: 30\n",
      "static_classes.trainer - INFO -  = Minimal loss value = -5.83363151550293,\n",
      " - 93 steps took 6.0 seconds, avg_step_time=0.064\n",
      " - test time: 0.0 seconds\n",
      "static_classes.trainer - INFO - \n",
      "Epoch: 31\n",
      "static_classes.trainer - INFO -  = Minimal loss value = -6.242031097412109,\n",
      " - 93 steps took 6.0 seconds, avg_step_time=0.065\n",
      " - test time: 0.0 seconds\n",
      "static_classes.trainer - INFO - \n",
      "Epoch: 32\n",
      "static_classes.trainer - INFO -  = Minimal loss value = -6.287524223327637,\n",
      " - 93 steps took 3.5 seconds, avg_step_time=0.038\n",
      " - test time: 0.0 seconds\n",
      "static_classes.trainer - INFO - \n",
      "Epoch: 33\n",
      "static_classes.trainer - INFO -  = Minimal loss value = -6.287524223327637,\n",
      " - 93 steps took 3.1 seconds, avg_step_time=0.033\n",
      " - test time: 0.0 seconds\n",
      "static_classes.trainer - INFO - \n",
      "Epoch: 34\n",
      "static_classes.trainer - INFO -  = Minimal loss value = -6.411669731140137,\n",
      " - 93 steps took 3.1 seconds, avg_step_time=0.034\n",
      " - test time: 0.0 seconds\n",
      "static_classes.trainer - INFO - \n",
      "Epoch: 35\n",
      "static_classes.trainer - INFO -  = Minimal loss value = -6.411669731140137,\n",
      " - 93 steps took 0.6 seconds, avg_step_time=0.007\n",
      " - test time: 0.0 seconds\n",
      "static_classes.trainer - INFO - \n",
      "Epoch: 36\n",
      "static_classes.trainer - INFO -  = Minimal loss value = -6.552862167358398,\n",
      " - 93 steps took 3.5 seconds, avg_step_time=0.038\n",
      " - test time: 0.0 seconds\n",
      "static_classes.trainer - INFO - \n",
      "Epoch: 37\n",
      "static_classes.trainer - INFO -  = Minimal loss value = -6.5704545974731445,\n",
      " - 93 steps took 3.2 seconds, avg_step_time=0.035\n",
      " - test time: 0.0 seconds\n",
      "static_classes.trainer - INFO - \n",
      "Epoch: 38\n",
      "static_classes.trainer - INFO -  = Minimal loss value = -6.582889556884766,\n",
      " - 93 steps took 3.6 seconds, avg_step_time=0.039\n",
      " - test time: 0.0 seconds\n",
      "static_classes.trainer - INFO - \n",
      "Epoch: 39\n",
      "static_classes.trainer - INFO -  = Minimal loss value = -6.851687431335449,\n",
      " - 93 steps took 5.6 seconds, avg_step_time=0.060\n",
      " - test time: 0.0 seconds\n"
     ]
    },
    {
     "name": "stdout",
     "output_type": "stream",
     "text": [
      "static_classes.trainer - INFO - \n",
      "Epoch: 40\n",
      "static_classes.trainer - INFO -  = Minimal loss value = -6.851687431335449,\n",
      " - 93 steps took 0.6 seconds, avg_step_time=0.007\n",
      " - test time: 0.0 seconds\n",
      "static_classes.trainer - INFO - \n",
      "Epoch: 41\n",
      "static_classes.trainer - INFO -  = Minimal loss value = -6.851687431335449,\n",
      " - 93 steps took 0.6 seconds, avg_step_time=0.007\n",
      " - test time: 0.0 seconds\n",
      "static_classes.trainer - INFO - \n",
      "Epoch: 42\n",
      "static_classes.trainer - INFO -  = Minimal loss value = -6.851687431335449,\n",
      " - 93 steps took 0.6 seconds, avg_step_time=0.007\n",
      " - test time: 0.0 seconds\n",
      "static_classes.trainer - INFO - \n",
      "Epoch: 43\n",
      "static_classes.trainer - INFO -  = Minimal loss value = -6.851687431335449,\n",
      " - 93 steps took 0.6 seconds, avg_step_time=0.007\n",
      " - test time: 0.0 seconds\n",
      "static_classes.trainer - INFO - \n",
      "Epoch: 44\n",
      "static_classes.trainer - INFO -  = Minimal loss value = -6.851687431335449,\n",
      " - 93 steps took 3.7 seconds, avg_step_time=0.040\n",
      " - test time: 0.0 seconds\n",
      "static_classes.trainer - INFO - \n",
      "Epoch: 45\n",
      "static_classes.trainer - INFO -  = Minimal loss value = -7.139948844909668,\n",
      " - 93 steps took 5.9 seconds, avg_step_time=0.063\n",
      " - test time: 0.0 seconds\n",
      "static_classes.trainer - INFO - \n",
      "Epoch: 46\n",
      "static_classes.trainer - INFO -  = Minimal loss value = -7.139948844909668,\n",
      " - 93 steps took 0.7 seconds, avg_step_time=0.007\n",
      " - test time: 0.0 seconds\n",
      "static_classes.trainer - INFO - \n",
      "Epoch: 47\n",
      "static_classes.trainer - INFO -  = Minimal loss value = -7.139948844909668,\n",
      " - 93 steps took 0.6 seconds, avg_step_time=0.007\n",
      " - test time: 0.0 seconds\n",
      "static_classes.trainer - INFO - \n",
      "Epoch: 48\n",
      "static_classes.trainer - INFO -  = Minimal loss value = -7.192723751068115,\n",
      " - 93 steps took 5.8 seconds, avg_step_time=0.062\n",
      " - test time: 0.0 seconds\n",
      "static_classes.trainer - INFO - \n",
      "Epoch: 49\n",
      "static_classes.trainer - INFO -  = Minimal loss value = -7.268762588500977,\n",
      " - 93 steps took 3.4 seconds, avg_step_time=0.037\n",
      " - test time: 0.0 seconds\n",
      "static_classes.trainer - INFO - \n",
      "Epoch: 50\n",
      "static_classes.trainer - INFO -  = Minimal loss value = -7.268762588500977,\n",
      " - 93 steps took 0.7 seconds, avg_step_time=0.007\n",
      " - test time: 0.0 seconds\n",
      "static_classes.trainer - INFO - \n",
      "Epoch: 51\n",
      "static_classes.trainer - INFO -  = Minimal loss value = -7.268762588500977,\n",
      " - 93 steps took 0.6 seconds, avg_step_time=0.007\n",
      " - test time: 0.0 seconds\n",
      "static_classes.trainer - INFO - \n",
      "Epoch: 52\n",
      "static_classes.trainer - INFO -  = Minimal loss value = -7.268762588500977,\n",
      " - 93 steps took 0.7 seconds, avg_step_time=0.007\n",
      " - test time: 0.0 seconds\n",
      "static_classes.trainer - INFO - \n",
      "Epoch: 53\n",
      "static_classes.trainer - INFO -  = Minimal loss value = -7.423748016357422,\n",
      " - 93 steps took 3.2 seconds, avg_step_time=0.035\n",
      " - test time: 0.0 seconds\n",
      "static_classes.trainer - INFO - \n",
      "Epoch: 54\n",
      "static_classes.trainer - INFO -  = Minimal loss value = -7.423748016357422,\n",
      " - 93 steps took 3.4 seconds, avg_step_time=0.036\n",
      " - test time: 0.0 seconds\n",
      "static_classes.trainer - INFO - \n",
      "Epoch: 55\n",
      "static_classes.trainer - INFO -  = Minimal loss value = -7.423748016357422,\n",
      " - 93 steps took 0.6 seconds, avg_step_time=0.007\n",
      " - test time: 0.0 seconds\n",
      "static_classes.trainer - INFO - \n",
      "Epoch: 56\n",
      "static_classes.trainer - INFO -  = Minimal loss value = -7.4295549392700195,\n",
      " - 93 steps took 3.1 seconds, avg_step_time=0.034\n",
      " - test time: 0.0 seconds\n",
      "static_classes.trainer - INFO - \n",
      "Epoch: 57\n",
      "static_classes.trainer - INFO -  = Minimal loss value = -7.4295549392700195,\n",
      " - 93 steps took 0.6 seconds, avg_step_time=0.007\n",
      " - test time: 0.0 seconds\n",
      "static_classes.trainer - INFO - \n",
      "Epoch: 58\n",
      "static_classes.trainer - INFO -  = Minimal loss value = -7.4295549392700195,\n",
      " - 93 steps took 0.6 seconds, avg_step_time=0.007\n",
      " - test time: 0.0 seconds\n",
      "static_classes.trainer - INFO - \n",
      "Epoch: 59\n",
      "static_classes.trainer - INFO -  = Minimal loss value = -7.4295549392700195,\n",
      " - 93 steps took 0.6 seconds, avg_step_time=0.007\n",
      " - test time: 0.0 seconds\n",
      "static_classes.trainer - INFO - \n",
      "Epoch: 60\n",
      "static_classes.trainer - INFO -  = Minimal loss value = -7.4295549392700195,\n",
      " - 93 steps took 0.6 seconds, avg_step_time=0.007\n",
      " - test time: 0.0 seconds\n",
      "static_classes.trainer - INFO - \n",
      "Epoch: 61\n",
      "static_classes.trainer - INFO -  = Minimal loss value = -7.483767032623291,\n",
      " - 93 steps took 3.4 seconds, avg_step_time=0.037\n",
      " - test time: 0.0 seconds\n",
      "static_classes.trainer - INFO - \n",
      "Epoch: 62\n",
      "static_classes.trainer - INFO -  = Minimal loss value = -7.513702392578125,\n",
      " - 93 steps took 3.1 seconds, avg_step_time=0.033\n",
      " - test time: 0.0 seconds\n",
      "static_classes.trainer - INFO - \n",
      "Epoch: 63\n",
      "static_classes.trainer - INFO -  = Minimal loss value = -7.513702392578125,\n",
      " - 93 steps took 0.6 seconds, avg_step_time=0.007\n",
      " - test time: 0.0 seconds\n",
      "static_classes.trainer - INFO - \n",
      "Epoch: 64\n",
      "static_classes.trainer - INFO -  = Minimal loss value = -7.564177513122559,\n",
      " - 93 steps took 3.5 seconds, avg_step_time=0.038\n",
      " - test time: 0.0 seconds\n",
      "static_classes.trainer - INFO - \n",
      "Epoch: 65\n",
      "static_classes.trainer - INFO -  = Minimal loss value = -7.792931079864502,\n",
      " - 93 steps took 6.1 seconds, avg_step_time=0.065\n",
      " - test time: 0.0 seconds\n",
      "static_classes.trainer - INFO - \n",
      "Epoch: 66\n",
      "static_classes.trainer - INFO -  = Minimal loss value = -7.792931079864502,\n",
      " - 93 steps took 0.6 seconds, avg_step_time=0.007\n",
      " - test time: 0.0 seconds\n",
      "static_classes.trainer - INFO - \n",
      "Epoch: 67\n",
      "static_classes.trainer - INFO -  = Minimal loss value = -7.792931079864502,\n",
      " - 93 steps took 0.6 seconds, avg_step_time=0.007\n",
      " - test time: 0.0 seconds\n",
      "static_classes.trainer - INFO - \n",
      "Epoch: 68\n",
      "static_classes.trainer - INFO -  = Minimal loss value = -7.8590779304504395,\n",
      " - 93 steps took 3.1 seconds, avg_step_time=0.034\n",
      " - test time: 0.0 seconds\n",
      "static_classes.trainer - INFO - \n",
      "Epoch: 69\n",
      "static_classes.trainer - INFO -  = Minimal loss value = -7.8590779304504395,\n",
      " - 93 steps took 0.6 seconds, avg_step_time=0.007\n",
      " - test time: 0.0 seconds\n",
      "static_classes.trainer - INFO - \n",
      "Epoch: 70\n",
      "static_classes.trainer - INFO -  = Minimal loss value = -7.8590779304504395,\n",
      " - 93 steps took 0.6 seconds, avg_step_time=0.007\n",
      " - test time: 0.0 seconds\n",
      "static_classes.trainer - INFO - \n",
      "Epoch: 71\n",
      "static_classes.trainer - INFO -  = Minimal loss value = -7.8590779304504395,\n",
      " - 93 steps took 0.6 seconds, avg_step_time=0.007\n",
      " - test time: 0.0 seconds\n",
      "static_classes.trainer - INFO - \n",
      "Epoch: 72\n",
      "static_classes.trainer - INFO -  = Minimal loss value = -7.8590779304504395,\n",
      " - 93 steps took 0.6 seconds, avg_step_time=0.007\n",
      " - test time: 0.0 seconds\n",
      "static_classes.trainer - INFO - \n",
      "Epoch: 73\n",
      "static_classes.trainer - INFO -  = Minimal loss value = -7.9746174812316895,\n",
      " - 93 steps took 3.3 seconds, avg_step_time=0.036\n",
      " - test time: 0.0 seconds\n",
      "static_classes.trainer - INFO - \n",
      "Epoch: 74\n",
      "static_classes.trainer - INFO -  = Minimal loss value = -7.9746174812316895,\n",
      " - 93 steps took 0.6 seconds, avg_step_time=0.007\n",
      " - test time: 0.0 seconds\n",
      "static_classes.trainer - INFO - \n",
      "Epoch: 75\n",
      "static_classes.trainer - INFO -  = Minimal loss value = -7.9746174812316895,\n",
      " - 93 steps took 0.6 seconds, avg_step_time=0.007\n",
      " - test time: 0.0 seconds\n",
      "static_classes.trainer - INFO - \n",
      "Epoch: 76\n",
      "static_classes.trainer - INFO -  = Minimal loss value = -7.9746174812316895,\n",
      " - 93 steps took 3.4 seconds, avg_step_time=0.036\n",
      " - test time: 0.0 seconds\n",
      "static_classes.trainer - INFO - \n",
      "Epoch: 77\n",
      "static_classes.trainer - INFO -  = Minimal loss value = -7.9746174812316895,\n",
      " - 93 steps took 0.6 seconds, avg_step_time=0.007\n",
      " - test time: 0.0 seconds\n",
      "static_classes.trainer - INFO - \n",
      "Epoch: 78\n",
      "static_classes.trainer - INFO -  = Minimal loss value = -7.9746174812316895,\n",
      " - 93 steps took 0.6 seconds, avg_step_time=0.007\n",
      " - test time: 0.0 seconds\n",
      "static_classes.trainer - INFO - \n",
      "Epoch: 79\n",
      "static_classes.trainer - INFO -  = Minimal loss value = -7.9746174812316895,\n",
      " - 93 steps took 0.6 seconds, avg_step_time=0.007\n",
      " - test time: 0.0 seconds\n",
      "static_classes.trainer - INFO - \n",
      "Epoch: 80\n",
      "static_classes.trainer - DEBUG - drop lr: 2.9999999242136255e-05\n",
      "static_classes.trainer - INFO -  = Minimal loss value = -7.9746174812316895,\n",
      " - 93 steps took 0.6 seconds, avg_step_time=0.007\n",
      " - test time: 0.0 seconds\n",
      "static_classes.trainer - INFO - \n",
      "Epoch: 81\n",
      "static_classes.trainer - INFO -  = Minimal loss value = -7.9746174812316895,\n",
      " - 93 steps took 0.6 seconds, avg_step_time=0.007\n",
      " - test time: 0.0 seconds\n"
     ]
    },
    {
     "name": "stdout",
     "output_type": "stream",
     "text": [
      "static_classes.trainer - INFO - \n",
      "Epoch: 82\n",
      "static_classes.trainer - INFO -  = Minimal loss value = -7.9746174812316895,\n",
      " - 93 steps took 0.6 seconds, avg_step_time=0.007\n",
      " - test time: 0.0 seconds\n",
      "static_classes.trainer - INFO - \n",
      "Epoch: 83\n",
      "static_classes.trainer - INFO -  = Minimal loss value = -7.9746174812316895,\n",
      " - 93 steps took 0.6 seconds, avg_step_time=0.007\n",
      " - test time: 0.0 seconds\n",
      "static_classes.trainer - INFO - \n",
      "Epoch: 84\n",
      "static_classes.trainer - INFO -  = Minimal loss value = -7.9746174812316895,\n",
      " - 93 steps took 0.6 seconds, avg_step_time=0.007\n",
      " - test time: 0.0 seconds\n",
      "static_classes.trainer - INFO - \n",
      "Epoch: 85\n",
      "static_classes.trainer - INFO -  = Minimal loss value = -7.9746174812316895,\n",
      " - 93 steps took 0.6 seconds, avg_step_time=0.007\n",
      " - test time: 0.0 seconds\n",
      "static_classes.trainer - INFO - \n",
      "Epoch: 86\n",
      "static_classes.trainer - INFO -  = Minimal loss value = -7.9746174812316895,\n",
      " - 93 steps took 0.6 seconds, avg_step_time=0.007\n",
      " - test time: 0.0 seconds\n",
      "static_classes.trainer - INFO - \n",
      "Epoch: 87\n",
      "static_classes.trainer - DEBUG - drop lr: 8.999999772640877e-06\n",
      "static_classes.trainer - INFO -  = Minimal loss value = -7.9746174812316895,\n",
      " - 93 steps took 3.6 seconds, avg_step_time=0.038\n",
      " - test time: 0.0 seconds\n",
      "static_classes.trainer - INFO - \n",
      "Epoch: 88\n",
      "static_classes.trainer - INFO -  = Minimal loss value = -7.9746174812316895,\n",
      " - 93 steps took 0.6 seconds, avg_step_time=0.007\n",
      " - test time: 0.0 seconds\n",
      "static_classes.trainer - INFO - \n",
      "Epoch: 89\n",
      "static_classes.trainer - INFO -  = Minimal loss value = -7.9746174812316895,\n",
      " - 93 steps took 0.6 seconds, avg_step_time=0.007\n",
      " - test time: 0.0 seconds\n",
      "static_classes.trainer - INFO - \n",
      "Epoch: 90\n",
      "static_classes.trainer - INFO -  = Minimal loss value = -7.9746174812316895,\n",
      " - 93 steps took 0.6 seconds, avg_step_time=0.007\n",
      " - test time: 0.0 seconds\n",
      "static_classes.trainer - INFO - \n",
      "Epoch: 91\n",
      "static_classes.trainer - INFO -  = Minimal loss value = -8.023642539978027,\n",
      " - 93 steps took 3.3 seconds, avg_step_time=0.036\n",
      " - test time: 0.0 seconds\n",
      "static_classes.trainer - INFO - \n",
      "Epoch: 92\n",
      "static_classes.trainer - INFO -  = Minimal loss value = -8.023642539978027,\n",
      " - 93 steps took 0.6 seconds, avg_step_time=0.007\n",
      " - test time: 0.0 seconds\n",
      "static_classes.trainer - INFO - \n",
      "Epoch: 93\n",
      "static_classes.trainer - INFO -  = Minimal loss value = -8.023642539978027,\n",
      " - 93 steps took 0.6 seconds, avg_step_time=0.007\n",
      " - test time: 0.0 seconds\n",
      "static_classes.trainer - INFO - \n",
      "Epoch: 94\n",
      "static_classes.trainer - INFO -  = Minimal loss value = -8.054288864135742,\n",
      " - 93 steps took 3.3 seconds, avg_step_time=0.036\n",
      " - test time: 0.0 seconds\n",
      "static_classes.trainer - INFO - \n",
      "Epoch: 95\n",
      "static_classes.trainer - INFO -  = Minimal loss value = -8.054288864135742,\n",
      " - 93 steps took 0.7 seconds, avg_step_time=0.007\n",
      " - test time: 0.0 seconds\n",
      "static_classes.trainer - INFO - \n",
      "Epoch: 96\n",
      "static_classes.trainer - INFO -  = Minimal loss value = -8.054288864135742,\n",
      " - 93 steps took 0.6 seconds, avg_step_time=0.007\n",
      " - test time: 0.0 seconds\n",
      "static_classes.trainer - INFO - \n",
      "Epoch: 97\n",
      "static_classes.trainer - INFO -  = Minimal loss value = -8.060246467590332,\n",
      " - 93 steps took 5.8 seconds, avg_step_time=0.062\n",
      " - test time: 0.0 seconds\n",
      "static_classes.trainer - INFO - \n",
      "Epoch: 98\n",
      "static_classes.trainer - INFO -  = Minimal loss value = -8.060246467590332,\n",
      " - 93 steps took 0.6 seconds, avg_step_time=0.007\n",
      " - test time: 0.0 seconds\n",
      "static_classes.trainer - INFO - \n",
      "Epoch: 99\n",
      "static_classes.trainer - INFO -  = Minimal loss value = -8.060246467590332,\n",
      " - 93 steps took 0.6 seconds, avg_step_time=0.007\n",
      " - test time: 0.0 seconds\n",
      "static_classes.trainer - INFO - \n",
      "Epoch: 100\n",
      "static_classes.trainer - INFO -  = Minimal loss value = -8.060246467590332,\n",
      " - 93 steps took 0.6 seconds, avg_step_time=0.007\n",
      " - test time: 0.0 seconds\n",
      "static_classes.trainer - INFO - \n",
      "Epoch: 101\n",
      "static_classes.trainer - INFO -  = Minimal loss value = -8.060246467590332,\n",
      " - 93 steps took 0.6 seconds, avg_step_time=0.007\n",
      " - test time: 0.0 seconds\n",
      "static_classes.trainer - INFO - \n",
      "Epoch: 102\n",
      "static_classes.trainer - INFO -  = Minimal loss value = -8.060246467590332,\n",
      " - 93 steps took 0.7 seconds, avg_step_time=0.007\n",
      " - test time: 0.0 seconds\n",
      "static_classes.trainer - INFO - \n",
      "Epoch: 103\n",
      "static_classes.trainer - INFO -  = Minimal loss value = -8.060246467590332,\n",
      " - 93 steps took 0.6 seconds, avg_step_time=0.007\n",
      " - test time: 0.0 seconds\n",
      "static_classes.trainer - INFO - \n",
      "Epoch: 104\n",
      "static_classes.trainer - DEBUG - drop lr: 2.699999931792263e-06\n",
      "static_classes.trainer - INFO -  = Minimal loss value = -8.060246467590332,\n",
      " - 93 steps took 0.6 seconds, avg_step_time=0.007\n",
      " - test time: 0.0 seconds\n",
      "static_classes.trainer - INFO - \n",
      "Epoch: 105\n",
      "static_classes.trainer - INFO -  = Minimal loss value = -8.060246467590332,\n",
      " - 93 steps took 0.7 seconds, avg_step_time=0.007\n",
      " - test time: 0.0 seconds\n",
      "static_classes.trainer - INFO - \n",
      "Epoch: 106\n",
      "static_classes.trainer - INFO -  = Minimal loss value = -8.060246467590332,\n",
      " - 93 steps took 0.6 seconds, avg_step_time=0.007\n",
      " - test time: 0.0 seconds\n",
      "static_classes.trainer - INFO - \n",
      "Epoch: 107\n",
      "static_classes.trainer - INFO -  = Minimal loss value = -8.060246467590332,\n",
      " - 93 steps took 0.6 seconds, avg_step_time=0.007\n",
      " - test time: 0.0 seconds\n",
      "static_classes.trainer - INFO - \n",
      "Epoch: 108\n",
      "static_classes.trainer - INFO -  = Minimal loss value = -8.060246467590332,\n",
      " - 93 steps took 3.3 seconds, avg_step_time=0.035\n",
      " - test time: 0.0 seconds\n",
      "static_classes.trainer - INFO - \n",
      "Epoch: 109\n",
      "static_classes.trainer - INFO -  = Minimal loss value = -8.060246467590332,\n",
      " - 93 steps took 0.6 seconds, avg_step_time=0.007\n",
      " - test time: 0.0 seconds\n",
      "static_classes.trainer - INFO - \n",
      "Epoch: 110\n",
      "static_classes.trainer - INFO -  = Minimal loss value = -8.060246467590332,\n",
      " - 93 steps took 0.6 seconds, avg_step_time=0.007\n",
      " - test time: 0.0 seconds\n",
      "static_classes.trainer - INFO - \n",
      "Epoch: 111\n",
      "static_classes.trainer - DEBUG - drop lr: 8.099999795376788e-07\n",
      "static_classes.trainer - INFO -  = Minimal loss value = -8.060246467590332,\n",
      " - 93 steps took 0.6 seconds, avg_step_time=0.007\n",
      " - test time: 0.0 seconds\n",
      "static_classes.trainer - INFO - \n",
      "Epoch: 112\n",
      "static_classes.trainer - INFO -  = Minimal loss value = -8.060246467590332,\n",
      " - 93 steps took 0.6 seconds, avg_step_time=0.007\n",
      " - test time: 0.0 seconds\n",
      "static_classes.trainer - INFO - \n",
      "Epoch: 113\n",
      "static_classes.trainer - INFO -  = Minimal loss value = -8.060246467590332,\n",
      " - 93 steps took 0.6 seconds, avg_step_time=0.007\n",
      " - test time: 0.0 seconds\n",
      "static_classes.trainer - INFO - \n",
      "Epoch: 114\n",
      "static_classes.trainer - INFO -  = Minimal loss value = -8.230507850646973,\n",
      " - 93 steps took 3.3 seconds, avg_step_time=0.036\n",
      " - test time: 0.0 seconds\n",
      "static_classes.trainer - INFO - \n",
      "Epoch: 115\n",
      "static_classes.trainer - INFO -  = Minimal loss value = -8.230507850646973,\n",
      " - 93 steps took 0.6 seconds, avg_step_time=0.007\n",
      " - test time: 0.0 seconds\n",
      "static_classes.trainer - INFO - \n",
      "Epoch: 116\n",
      "static_classes.trainer - INFO -  = Minimal loss value = -8.230507850646973,\n",
      " - 93 steps took 0.6 seconds, avg_step_time=0.007\n",
      " - test time: 0.0 seconds\n",
      "static_classes.trainer - INFO - \n",
      "Epoch: 117\n",
      "static_classes.trainer - INFO -  = Minimal loss value = -8.230507850646973,\n",
      " - 93 steps took 0.6 seconds, avg_step_time=0.007\n",
      " - test time: 0.0 seconds\n",
      "static_classes.trainer - INFO - \n",
      "Epoch: 118\n",
      "static_classes.trainer - INFO -  = Minimal loss value = -8.230507850646973,\n",
      " - 93 steps took 0.6 seconds, avg_step_time=0.007\n",
      " - test time: 0.0 seconds\n",
      "static_classes.trainer - INFO - \n",
      "Epoch: 119\n",
      "static_classes.trainer - INFO -  = Minimal loss value = -8.230507850646973,\n",
      " - 93 steps took 3.5 seconds, avg_step_time=0.037\n",
      " - test time: 0.0 seconds\n",
      "static_classes.trainer - INFO - \n",
      "Epoch: 120\n",
      "static_classes.trainer - INFO -  = Minimal loss value = -8.230507850646973,\n",
      " - 93 steps took 0.6 seconds, avg_step_time=0.007\n",
      " - test time: 0.0 seconds\n",
      "tensorflow - INFO - Restoring parameters from C:\\Users\\Ivan\\Documents\\masters-project\\StochNetV2\\project\\SIR\\models\\0.5\\1\\checkpoints\\best_ckpt_10559\n",
      "tensorflow - WARNING - From C:\\Users\\Ivan\\miniconda3\\envs\\py37-tf1\\lib\\site-packages\\stochnet_v2\\static_classes\\model.py:286: convert_variables_to_constants (from tensorflow.python.framework.graph_util_impl) is deprecated and will be removed in a future version.\n",
      "Instructions for updating:\n",
      "Use `tf.compat.v1.graph_util.convert_variables_to_constants`\n"
     ]
    },
    {
     "name": "stdout",
     "output_type": "stream",
     "text": [
      "tensorflow - WARNING - From C:\\Users\\Ivan\\miniconda3\\envs\\py37-tf1\\lib\\site-packages\\tensorflow_core\\python\\framework\\graph_util_impl.py:277: extract_sub_graph (from tensorflow.python.framework.graph_util_impl) is deprecated and will be removed in a future version.\n",
      "Instructions for updating:\n",
      "Use `tf.compat.v1.graph_util.extract_sub_graph`\n",
      "tensorflow - INFO - Froze 36 variables.\n",
      "tensorflow - INFO - Converted 36 variables to const ops.\n",
      "static_classes.model - INFO - Model's frozen graph saved in C:\\Users\\Ivan\\Documents\\masters-project\\StochNetV2\\project\\SIR\\models\\0.5\\1\n",
      "static_classes.model - INFO - Model's graph keys saved at C:\\Users\\Ivan\\Documents\\masters-project\\StochNetV2\\project\\SIR\\models\\0.5\\1\\graph_keys.json\n"
     ]
    },
    {
     "data": {
      "text/plain": [
       "'C:\\\\Users\\\\Ivan\\\\Documents\\\\masters-project\\\\StochNetV2\\\\project\\\\SIR\\\\models\\\\0.5\\\\1\\\\checkpoints\\\\best_ckpt_10559'"
      ]
     },
     "execution_count": 22,
     "metadata": {},
     "output_type": "execute_result"
    }
   ],
   "source": [
    "ckpt_path = None\n",
    "\n",
    "ckpt_path = Trainer().train(\n",
    "    nn,\n",
    "    n_epochs=n_epochs,\n",
    "    batch_size=batch_size,\n",
    "    learning_strategy=learning_strategy,\n",
    "    ckpt_path=ckpt_path,\n",
    "    dataset_kind=dataset_kind,\n",
    "    add_noise=add_noise,\n",
    "    stddev=stddev,\n",
    ")\n",
    "\n",
    "ckpt_path"
   ]
  },
  {
   "cell_type": "code",
   "execution_count": 23,
   "id": "6f438cff",
   "metadata": {},
   "outputs": [],
   "source": [
    "from stochnet_v2.utils.evaluation import evaluate\n",
    "from stochnet_v2.utils.util import plot_random_traces\n",
    "\n",
    "distance_kind = 'dist'\n",
    "target_species_names = ['S', 'I']\n",
    "time_lag_range = [1, 3, 5, 10, 15, 20]\n",
    "settings_idxs_to_save_histograms = [i for i in range(10)]"
   ]
  },
  {
   "cell_type": "code",
   "execution_count": 24,
   "id": "5f4ebd86",
   "metadata": {},
   "outputs": [
    {
     "name": "stdout",
     "output_type": "stream",
     "text": [
      "static_classes.model - INFO - Model created in inference mode.\n",
      "utils.evaluation - INFO - Start generating NN traces\n"
     ]
    },
    {
     "name": "stderr",
     "output_type": "stream",
     "text": [
      "100%|███████████████████████████████████████████████████████████████████████████| 40/40 [00:00<00:00, 110.08it/s]"
     ]
    },
    {
     "name": "stdout",
     "output_type": "stream",
     "text": [
      "utils.evaluation - INFO - Done. generated data shape: (15, 50, 41, 4)\n",
      "utils.evaluation - INFO - Took 0.6 seconds\n",
      "utils.evaluation - INFO - Start calculating distances for different time-lags, using 10 CPU cores for multiprocessing\n"
     ]
    },
    {
     "name": "stderr",
     "output_type": "stream",
     "text": [
      "\n"
     ]
    },
    {
     "name": "stdout",
     "output_type": "stream",
     "text": [
      "utils.evaluation - INFO - Took 5.5 seconds\n",
      "utils.evaluation - INFO - Start building histograms for different settings: [0, 1, 2, 3, 4, 5, 6, 7, 8, 9]\n",
      "and time-lags: [1, 3, 5, 10, 15, 20]\n"
     ]
    },
    {
     "name": "stderr",
     "output_type": "stream",
     "text": [
      "100%|██████████████████████████████████████████████████████████████████████████████| 6/6 [00:09<00:00,  1.54s/it]"
     ]
    },
    {
     "name": "stdout",
     "output_type": "stream",
     "text": [
      "utils.evaluation - INFO - Took 9.2 seconds\n",
      "utils.evaluation - INFO - All done.\n"
     ]
    },
    {
     "name": "stderr",
     "output_type": "stream",
     "text": [
      "\n"
     ]
    }
   ],
   "source": [
    "histogram_explorer = dataset_explorer.get_histogram_file_explorer(model_id, 0)\n",
    "nn_histogram_data_fp = os.path.join(histogram_explorer.model_histogram_folder, 'nn_histogram_data.npy')\n",
    "\n",
    "evaluate(\n",
    "    model_name=model_name,\n",
    "    project_folder=project_folder,\n",
    "    timestep=timestep,\n",
    "    dataset_id=dataset_id,\n",
    "    model_id=model_id,\n",
    "    nb_randomized_params=len(params_to_randomize),\n",
    "    nb_past_timesteps=1,\n",
    "    n_bins=100,\n",
    "    distance_kind=distance_kind,\n",
    "    with_timestamps=True,\n",
    "    save_histograms=True,\n",
    "    time_lag_range=time_lag_range,\n",
    "    target_species_names=target_species_names,\n",
    "    path_to_save_nn_traces=nn_histogram_data_fp,\n",
    "    settings_idxs_to_save_histograms=settings_idxs_to_save_histograms,\n",
    ")"
   ]
  },
  {
   "cell_type": "code",
   "execution_count": 25,
   "id": "9a543c6e",
   "metadata": {},
   "outputs": [
    {
     "name": "stdout",
     "output_type": "stream",
     "text": [
      "static_classes.model - INFO - Model created in inference mode.\n"
     ]
    }
   ],
   "source": [
    "nn = StochNet(\n",
    "    nb_past_timesteps=1,\n",
    "    nb_features=nb_features,\n",
    "    nb_randomized_params=len(params_to_randomize),\n",
    "    project_folder=project_folder,\n",
    "    timestep=timestep,\n",
    "    dataset_id=dataset_id,\n",
    "    model_id=model_id,\n",
    "    mode='inference'\n",
    ")"
   ]
  },
  {
   "cell_type": "code",
   "execution_count": 26,
   "id": "c61af4d9",
   "metadata": {},
   "outputs": [
    {
     "data": {
      "text/plain": [
       "array([[ 91.        , 121.        ,  78.        ,   3.81695276,\n",
       "          1.24504062],\n",
       "       [ 38.        , 161.        , 160.        ,   2.24297664,\n",
       "          1.36121919],\n",
       "       [160.        ,  83.        , 186.        ,   2.34190867,\n",
       "          1.09189985],\n",
       "       [186.        , 109.        ,  40.        ,   3.40188386,\n",
       "          0.9122157 ],\n",
       "       [185.        , 118.        , 130.        ,   3.84118086,\n",
       "          1.08462004],\n",
       "       [ 31.        ,  56.        , 103.        ,   2.93316185,\n",
       "          0.78096121],\n",
       "       [ 44.        , 196.        ,  50.        ,   2.40211106,\n",
       "          0.96117676],\n",
       "       [ 63.        , 116.        , 124.        ,   2.52906005,\n",
       "          0.73504469],\n",
       "       [157.        , 129.        , 133.        ,   3.12251458,\n",
       "          0.81754543],\n",
       "       [ 70.        , 194.        ,  49.        ,   1.91856745,\n",
       "          0.75246787],\n",
       "       [197.        , 181.        ,  78.        ,   3.14169916,\n",
       "          1.16940445],\n",
       "       [ 91.        ,  94.        , 181.        ,   3.21029273,\n",
       "          0.96584885],\n",
       "       [ 47.        , 135.        , 115.        ,   3.68518877,\n",
       "          0.68603518],\n",
       "       [158.        ,  65.        ,  70.        ,   2.32105506,\n",
       "          1.35049584],\n",
       "       [ 68.        ,  56.        , 107.        ,   2.43313227,\n",
       "          1.2748563 ]])"
      ]
     },
     "execution_count": 26,
     "metadata": {},
     "output_type": "execute_result"
    }
   ],
   "source": [
    "n_settings = 15\n",
    "traj_per_setting = 50\n",
    "n_steps = 40\n",
    "\n",
    "m = CRN_class(endtime, timestep)\n",
    "\n",
    "initial_settings = m.get_initial_settings(n_settings)\n",
    "randomized_params = m.get_randomized_parameters(params_to_randomize, n_settings)\n",
    "\n",
    "settings = merge_species_and_param_settings(initial_settings, randomized_params)\n",
    "settings"
   ]
  },
  {
   "cell_type": "code",
   "execution_count": 27,
   "id": "d3bbd10e",
   "metadata": {},
   "outputs": [
    {
     "data": {
      "text/plain": [
       "array([[[ 91.        , 121.        ,  78.        ,   3.81695276,\n",
       "           1.24504062]]])"
      ]
     },
     "execution_count": 27,
     "metadata": {},
     "output_type": "execute_result"
    }
   ],
   "source": [
    "setting_idx = 0\n",
    "\n",
    "curr_state = settings[setting_idx:setting_idx+1, np.newaxis, :]\n",
    "curr_state"
   ]
  },
  {
   "cell_type": "code",
   "execution_count": 28,
   "id": "bfd261ea",
   "metadata": {},
   "outputs": [
    {
     "data": {
      "text/plain": [
       "(10000, 1, 1, 3)"
      ]
     },
     "execution_count": 28,
     "metadata": {},
     "output_type": "execute_result"
    }
   ],
   "source": [
    "next_state_samples = nn.next_state(\n",
    "    curr_state_values=curr_state,\n",
    "    curr_state_rescaled=False,\n",
    "    scale_back_result=True,\n",
    "    round_result=False,\n",
    "    n_samples=10000,\n",
    ")\n",
    "\n",
    "# [n_samples, n_settings, 1, n_features]\n",
    "next_state_samples.shape"
   ]
  },
  {
   "cell_type": "code",
   "execution_count": 29,
   "id": "c9ef23b6",
   "metadata": {},
   "outputs": [
    {
     "data": {
      "image/png": "[encoded data removed]",
      "text/plain": [
       "<Figure size 432x288 with 1 Axes>"
      ]
     },
     "metadata": {
      "needs_background": "light"
     },
     "output_type": "display_data"
    }
   ],
   "source": [
    "species_idx = 2\n",
    "\n",
    "samples = np.squeeze(next_state_samples, -2)[..., species_idx]\n",
    "\n",
    "_ = plt.hist(samples, bins=50)"
   ]
  },
  {
   "cell_type": "code",
   "execution_count": 30,
   "id": "79378ddc",
   "metadata": {},
   "outputs": [
    {
     "data": {
      "text/plain": [
       "((15, 50, 41, 4), 13.977632761001587)"
      ]
     },
     "execution_count": 30,
     "metadata": {},
     "output_type": "execute_result"
    }
   ],
   "source": [
    "start = time()\n",
    "\n",
    "gillespy_traces = generate_gillespy_traces(\n",
    "    settings=settings,\n",
    "    n_steps=n_steps,\n",
    "    timestep=timestep,\n",
    "    gillespy_model=m,\n",
    "    params_to_randomize=params_to_randomize,\n",
    "    traj_per_setting=traj_per_setting,\n",
    ")\n",
    "\n",
    "gillespy_time = time() - start\n",
    "\n",
    "gillespy_traces.shape, gillespy_time"
   ]
  },
  {
   "cell_type": "code",
   "execution_count": 31,
   "id": "e468d984",
   "metadata": {},
   "outputs": [
    {
     "name": "stderr",
     "output_type": "stream",
     "text": [
      "100%|███████████████████████████████████████████████████████████████████████████| 40/40 [00:00<00:00, 157.49it/s]\n"
     ]
    },
    {
     "data": {
      "text/plain": [
       "((15, 50, 41, 4), 0.2696037292480469)"
      ]
     },
     "execution_count": 31,
     "metadata": {},
     "output_type": "execute_result"
    }
   ],
   "source": [
    "start = time()\n",
    "\n",
    "nn_traces = nn.generate_traces(\n",
    "    settings[:, np.newaxis, :],\n",
    "    n_steps=n_steps,\n",
    "    n_traces=traj_per_setting,\n",
    "    curr_state_rescaled=False,\n",
    "    scale_back_result=True,\n",
    "    round_result=True,\n",
    "    add_timestamps=True,\n",
    ")\n",
    "\n",
    "nn_time = time() - start\n",
    "\n",
    "nn_traces.shape, nn_time"
   ]
  },
  {
   "cell_type": "code",
   "execution_count": 32,
   "id": "893134c6",
   "metadata": {},
   "outputs": [
    {
     "data": {
      "image/png": "[encoded data removed]",
      "text/plain": [
       "<Figure size 1152x720 with 1 Axes>"
      ]
     },
     "metadata": {
      "needs_background": "light"
     },
     "output_type": "display_data"
    }
   ],
   "source": [
    "k = 1\n",
    "n_traces = 5\n",
    "\n",
    "plt.figure(figsize=(16, 10))\n",
    "plot_random_traces(gillespy_traces[k][...,:nb_features+1], n_traces, linestyle='--', marker='')\n",
    "plot_random_traces(nn_traces[k], n_traces, linestyle='-', marker='')"
   ]
  },
  {
   "cell_type": "code",
   "execution_count": null,
   "id": "9b34639b",
   "metadata": {},
   "outputs": [],
   "source": []
  },
  {
   "cell_type": "code",
   "execution_count": null,
   "id": "fe053f24",
   "metadata": {},
   "outputs": [],
   "source": []
  },
  {
   "cell_type": "code",
   "execution_count": null,
   "id": "dd98cab1",
   "metadata": {},
   "outputs": [],
   "source": []
  },
  {
   "cell_type": "code",
   "execution_count": null,
   "id": "7eb32522",
   "metadata": {},
   "outputs": [],
   "source": []
  },
  {
   "cell_type": "code",
   "execution_count": null,
   "id": "37c4c33f",
   "metadata": {},
   "outputs": [],
   "source": [
    "# simulation with timestep 1.0 and endtime 5.0 (5 steps)\n",
    "# 2 trajectories for each of the 5 settings\n",
    "# target dimensions are (25, 5, 5)\n",
    "\n",
    "sim = [[np.random.rand(5, 5) for j in range(2)] for i in range(5)]"
   ]
  },
  {
   "cell_type": "code",
   "execution_count": null,
   "id": "1359fc25",
   "metadata": {},
   "outputs": [],
   "source": [
    "single_sim = sim[0]\n",
    "single_sim[0].shape"
   ]
  },
  {
   "cell_type": "code",
   "execution_count": null,
   "id": "77e54e54",
   "metadata": {
    "scrolled": false
   },
   "outputs": [],
   "source": [
    "stacked_sims_vstack = np.vstack([np.stack(single_sim) for single_sim in sim])\n",
    "print(stacked_sims_vstack.shape)\n",
    "print(stacked_sims_vstack)"
   ]
  },
  {
   "cell_type": "code",
   "execution_count": null,
   "id": "cddc6222",
   "metadata": {},
   "outputs": [],
   "source": [
    "a1 = np.array([[1, 2, 3], ['a', 'b', 'c']])\n",
    "a2 = np.array([[3, 4, 5], ['d', 'e', 'f']])\n",
    "a3 = np.array([[6, 7, 8], ['g', 'h', 'i']])"
   ]
  },
  {
   "cell_type": "code",
   "execution_count": null,
   "id": "fb228f1d",
   "metadata": {},
   "outputs": [],
   "source": [
    "a4 = np.stack([a1, a2, a3])\n",
    "a4.shape"
   ]
  },
  {
   "cell_type": "code",
   "execution_count": null,
   "id": "ea4ec622",
   "metadata": {},
   "outputs": [],
   "source": []
  },
  {
   "cell_type": "code",
   "execution_count": null,
   "id": "6a8dfeef",
   "metadata": {},
   "outputs": [],
   "source": []
  }
 ],
 "metadata": {
  "kernelspec": {
   "display_name": "Python [conda env:py37-tf1] *",
   "language": "python",
   "name": "conda-env-py37-tf1-py"
  },
  "language_info": {
   "codemirror_mode": {
    "name": "ipython",
    "version": 3
   },
   "file_extension": ".py",
   "mimetype": "text/x-python",
   "name": "python",
   "nbconvert_exporter": "python",
   "pygments_lexer": "ipython3",
   "version": "3.7.11"
  }
 },
 "nbformat": 4,
 "nbformat_minor": 5
}
