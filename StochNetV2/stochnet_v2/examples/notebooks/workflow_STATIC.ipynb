{
 "cells": [
  {
   "cell_type": "code",
   "execution_count": 1,
   "metadata": {},
   "outputs": [
    {
     "ename": "FileNotFoundError",
     "evalue": "[Errno 2] No such file or directory: 'C:\\\\Users\\\\Ivan\\\\Documents\\\\StochNetV2\\\\project\\\\logger.log'",
     "output_type": "error",
     "traceback": [
      "\u001b[1;31m---------------------------------------------------------------------------\u001b[0m",
      "\u001b[1;31mFileNotFoundError\u001b[0m                         Traceback (most recent call last)",
      "\u001b[1;32m~\\AppData\\Local\\Temp/ipykernel_2136/2007238064.py\u001b[0m in \u001b[0;36m<module>\u001b[1;34m\u001b[0m\n\u001b[0;32m      8\u001b[0m \u001b[1;32mfrom\u001b[0m \u001b[0mtime\u001b[0m \u001b[1;32mimport\u001b[0m \u001b[0mtime\u001b[0m\u001b[1;33m\u001b[0m\u001b[1;33m\u001b[0m\u001b[0m\n\u001b[0;32m      9\u001b[0m \u001b[1;33m\u001b[0m\u001b[0m\n\u001b[1;32m---> 10\u001b[1;33m \u001b[1;32mfrom\u001b[0m \u001b[0mstochnet_v2\u001b[0m\u001b[1;33m.\u001b[0m\u001b[0mdataset\u001b[0m\u001b[1;33m.\u001b[0m\u001b[0msimulation_gillespy\u001b[0m \u001b[1;32mimport\u001b[0m \u001b[0mbuild_simulation_dataset\u001b[0m\u001b[1;33m\u001b[0m\u001b[1;33m\u001b[0m\u001b[0m\n\u001b[0m\u001b[0;32m     11\u001b[0m \u001b[1;32mfrom\u001b[0m \u001b[0mstochnet_v2\u001b[0m\u001b[1;33m.\u001b[0m\u001b[0mdataset\u001b[0m\u001b[1;33m.\u001b[0m\u001b[0mdataset\u001b[0m \u001b[1;32mimport\u001b[0m \u001b[0mDataTransformer\u001b[0m\u001b[1;33m,\u001b[0m \u001b[0mHDF5Dataset\u001b[0m\u001b[1;33m\u001b[0m\u001b[1;33m\u001b[0m\u001b[0m\n\u001b[0;32m     12\u001b[0m \u001b[1;32mfrom\u001b[0m \u001b[0mstochnet_v2\u001b[0m\u001b[1;33m.\u001b[0m\u001b[0mstatic_classes\u001b[0m\u001b[1;33m.\u001b[0m\u001b[0mmodel\u001b[0m \u001b[1;32mimport\u001b[0m \u001b[0mStochNet\u001b[0m\u001b[1;33m\u001b[0m\u001b[1;33m\u001b[0m\u001b[0m\n",
      "\u001b[1;32m~\\miniconda3\\envs\\py37-tf1\\lib\\site-packages\\stochnet_v2\\__init__.py\u001b[0m in \u001b[0;36m<module>\u001b[1;34m\u001b[0m\n\u001b[0;32m      4\u001b[0m fileConfig(\n\u001b[0;32m      5\u001b[0m     \u001b[0mos\u001b[0m\u001b[1;33m.\u001b[0m\u001b[0mpath\u001b[0m\u001b[1;33m.\u001b[0m\u001b[0mjoin\u001b[0m\u001b[1;33m(\u001b[0m\u001b[0mcurr_dir\u001b[0m\u001b[1;33m,\u001b[0m \u001b[1;34m'logging.conf'\u001b[0m\u001b[1;33m)\u001b[0m\u001b[1;33m,\u001b[0m\u001b[1;33m\u001b[0m\u001b[1;33m\u001b[0m\u001b[0m\n\u001b[1;32m----> 6\u001b[1;33m     \u001b[0mdisable_existing_loggers\u001b[0m\u001b[1;33m=\u001b[0m\u001b[1;32mFalse\u001b[0m\u001b[1;33m,\u001b[0m\u001b[1;33m\u001b[0m\u001b[1;33m\u001b[0m\u001b[0m\n\u001b[0m\u001b[0;32m      7\u001b[0m )\n",
      "\u001b[1;32m~\\miniconda3\\envs\\py37-tf1\\lib\\logging\\config.py\u001b[0m in \u001b[0;36mfileConfig\u001b[1;34m(fname, defaults, disable_existing_loggers)\u001b[0m\n\u001b[0;32m     77\u001b[0m \u001b[1;33m\u001b[0m\u001b[0m\n\u001b[0;32m     78\u001b[0m         \u001b[1;31m# Handlers add themselves to logging._handlers\u001b[0m\u001b[1;33m\u001b[0m\u001b[1;33m\u001b[0m\u001b[1;33m\u001b[0m\u001b[0m\n\u001b[1;32m---> 79\u001b[1;33m         \u001b[0mhandlers\u001b[0m \u001b[1;33m=\u001b[0m \u001b[0m_install_handlers\u001b[0m\u001b[1;33m(\u001b[0m\u001b[0mcp\u001b[0m\u001b[1;33m,\u001b[0m \u001b[0mformatters\u001b[0m\u001b[1;33m)\u001b[0m\u001b[1;33m\u001b[0m\u001b[1;33m\u001b[0m\u001b[0m\n\u001b[0m\u001b[0;32m     80\u001b[0m         \u001b[0m_install_loggers\u001b[0m\u001b[1;33m(\u001b[0m\u001b[0mcp\u001b[0m\u001b[1;33m,\u001b[0m \u001b[0mhandlers\u001b[0m\u001b[1;33m,\u001b[0m \u001b[0mdisable_existing_loggers\u001b[0m\u001b[1;33m)\u001b[0m\u001b[1;33m\u001b[0m\u001b[1;33m\u001b[0m\u001b[0m\n\u001b[0;32m     81\u001b[0m     \u001b[1;32mfinally\u001b[0m\u001b[1;33m:\u001b[0m\u001b[1;33m\u001b[0m\u001b[1;33m\u001b[0m\u001b[0m\n",
      "\u001b[1;32m~\\miniconda3\\envs\\py37-tf1\\lib\\logging\\config.py\u001b[0m in \u001b[0;36m_install_handlers\u001b[1;34m(cp, formatters)\u001b[0m\n\u001b[0;32m    143\u001b[0m         \u001b[0mkwargs\u001b[0m \u001b[1;33m=\u001b[0m \u001b[0msection\u001b[0m\u001b[1;33m.\u001b[0m\u001b[0mget\u001b[0m\u001b[1;33m(\u001b[0m\u001b[1;34m\"kwargs\"\u001b[0m\u001b[1;33m,\u001b[0m \u001b[1;34m'{}'\u001b[0m\u001b[1;33m)\u001b[0m\u001b[1;33m\u001b[0m\u001b[1;33m\u001b[0m\u001b[0m\n\u001b[0;32m    144\u001b[0m         \u001b[0mkwargs\u001b[0m \u001b[1;33m=\u001b[0m \u001b[0meval\u001b[0m\u001b[1;33m(\u001b[0m\u001b[0mkwargs\u001b[0m\u001b[1;33m,\u001b[0m \u001b[0mvars\u001b[0m\u001b[1;33m(\u001b[0m\u001b[0mlogging\u001b[0m\u001b[1;33m)\u001b[0m\u001b[1;33m)\u001b[0m\u001b[1;33m\u001b[0m\u001b[1;33m\u001b[0m\u001b[0m\n\u001b[1;32m--> 145\u001b[1;33m         \u001b[0mh\u001b[0m \u001b[1;33m=\u001b[0m \u001b[0mklass\u001b[0m\u001b[1;33m(\u001b[0m\u001b[1;33m*\u001b[0m\u001b[0margs\u001b[0m\u001b[1;33m,\u001b[0m \u001b[1;33m**\u001b[0m\u001b[0mkwargs\u001b[0m\u001b[1;33m)\u001b[0m\u001b[1;33m\u001b[0m\u001b[1;33m\u001b[0m\u001b[0m\n\u001b[0m\u001b[0;32m    146\u001b[0m         \u001b[1;32mif\u001b[0m \u001b[1;34m\"level\"\u001b[0m \u001b[1;32min\u001b[0m \u001b[0msection\u001b[0m\u001b[1;33m:\u001b[0m\u001b[1;33m\u001b[0m\u001b[1;33m\u001b[0m\u001b[0m\n\u001b[0;32m    147\u001b[0m             \u001b[0mlevel\u001b[0m \u001b[1;33m=\u001b[0m \u001b[0msection\u001b[0m\u001b[1;33m[\u001b[0m\u001b[1;34m\"level\"\u001b[0m\u001b[1;33m]\u001b[0m\u001b[1;33m\u001b[0m\u001b[1;33m\u001b[0m\u001b[0m\n",
      "\u001b[1;32m~\\miniconda3\\envs\\py37-tf1\\lib\\logging\\__init__.py\u001b[0m in \u001b[0;36m__init__\u001b[1;34m(self, filename, mode, encoding, delay)\u001b[0m\n\u001b[0;32m   1085\u001b[0m             \u001b[0mself\u001b[0m\u001b[1;33m.\u001b[0m\u001b[0mstream\u001b[0m \u001b[1;33m=\u001b[0m \u001b[1;32mNone\u001b[0m\u001b[1;33m\u001b[0m\u001b[1;33m\u001b[0m\u001b[0m\n\u001b[0;32m   1086\u001b[0m         \u001b[1;32melse\u001b[0m\u001b[1;33m:\u001b[0m\u001b[1;33m\u001b[0m\u001b[1;33m\u001b[0m\u001b[0m\n\u001b[1;32m-> 1087\u001b[1;33m             \u001b[0mStreamHandler\u001b[0m\u001b[1;33m.\u001b[0m\u001b[0m__init__\u001b[0m\u001b[1;33m(\u001b[0m\u001b[0mself\u001b[0m\u001b[1;33m,\u001b[0m \u001b[0mself\u001b[0m\u001b[1;33m.\u001b[0m\u001b[0m_open\u001b[0m\u001b[1;33m(\u001b[0m\u001b[1;33m)\u001b[0m\u001b[1;33m)\u001b[0m\u001b[1;33m\u001b[0m\u001b[1;33m\u001b[0m\u001b[0m\n\u001b[0m\u001b[0;32m   1088\u001b[0m \u001b[1;33m\u001b[0m\u001b[0m\n\u001b[0;32m   1089\u001b[0m     \u001b[1;32mdef\u001b[0m \u001b[0mclose\u001b[0m\u001b[1;33m(\u001b[0m\u001b[0mself\u001b[0m\u001b[1;33m)\u001b[0m\u001b[1;33m:\u001b[0m\u001b[1;33m\u001b[0m\u001b[1;33m\u001b[0m\u001b[0m\n",
      "\u001b[1;32m~\\miniconda3\\envs\\py37-tf1\\lib\\logging\\__init__.py\u001b[0m in \u001b[0;36m_open\u001b[1;34m(self)\u001b[0m\n\u001b[0;32m   1114\u001b[0m         \u001b[0mReturn\u001b[0m \u001b[0mthe\u001b[0m \u001b[0mresulting\u001b[0m \u001b[0mstream\u001b[0m\u001b[1;33m.\u001b[0m\u001b[1;33m\u001b[0m\u001b[1;33m\u001b[0m\u001b[0m\n\u001b[0;32m   1115\u001b[0m         \"\"\"\n\u001b[1;32m-> 1116\u001b[1;33m         \u001b[1;32mreturn\u001b[0m \u001b[0mopen\u001b[0m\u001b[1;33m(\u001b[0m\u001b[0mself\u001b[0m\u001b[1;33m.\u001b[0m\u001b[0mbaseFilename\u001b[0m\u001b[1;33m,\u001b[0m \u001b[0mself\u001b[0m\u001b[1;33m.\u001b[0m\u001b[0mmode\u001b[0m\u001b[1;33m,\u001b[0m \u001b[0mencoding\u001b[0m\u001b[1;33m=\u001b[0m\u001b[0mself\u001b[0m\u001b[1;33m.\u001b[0m\u001b[0mencoding\u001b[0m\u001b[1;33m)\u001b[0m\u001b[1;33m\u001b[0m\u001b[1;33m\u001b[0m\u001b[0m\n\u001b[0m\u001b[0;32m   1117\u001b[0m \u001b[1;33m\u001b[0m\u001b[0m\n\u001b[0;32m   1118\u001b[0m     \u001b[1;32mdef\u001b[0m \u001b[0memit\u001b[0m\u001b[1;33m(\u001b[0m\u001b[0mself\u001b[0m\u001b[1;33m,\u001b[0m \u001b[0mrecord\u001b[0m\u001b[1;33m)\u001b[0m\u001b[1;33m:\u001b[0m\u001b[1;33m\u001b[0m\u001b[1;33m\u001b[0m\u001b[0m\n",
      "\u001b[1;31mFileNotFoundError\u001b[0m: [Errno 2] No such file or directory: 'C:\\\\Users\\\\Ivan\\\\Documents\\\\StochNetV2\\\\project\\\\logger.log'"
     ]
    }
   ],
   "source": [
    "import os\n",
    "import sys\n",
    "import json\n",
    "import numpy as np\n",
    "import matplotlib.pyplot as plt\n",
    "import tensorflow as tf\n",
    "from importlib import import_module\n",
    "from time import time\n",
    "\n",
    "from stochnet_v2.dataset.simulation_gillespy import build_simulation_dataset\n",
    "from stochnet_v2.dataset.dataset import DataTransformer, HDF5Dataset\n",
    "from stochnet_v2.static_classes.model import StochNet\n",
    "from stochnet_v2.static_classes.trainer import ToleranceDropLearningStrategy, Trainer\n",
    "from stochnet_v2.utils.file_organisation import ProjectFileExplorer\n",
    "from stochnet_v2.utils.util import generate_gillespy_traces, plot_random_traces\n",
    "from stochnet_v2.utils.util import merge_species_and_param_settings\n",
    "\n",
    "np.set_printoptions(suppress=True, precision=2, linewidth=120)\n",
    "%load_ext autoreload\n",
    "%autoreload 2"
   ]
  },
  {
   "cell_type": "code",
   "execution_count": 29,
   "metadata": {},
   "outputs": [],
   "source": [
    "dataset = np.load(r'C:\\Users\\Ivan\\Documents\\StochNetV2\\projectX16\\dataset\\data\\20.0\\2\\dataset.npy')\n",
    "histogram_dataset = np.load(r'C:\\Users\\Ivan\\Documents\\StochNetV2\\projectX16\\dataset\\data\\20.0\\2\\histogram_dataset.npy')"
   ]
  },
  {
   "cell_type": "code",
   "execution_count": 33,
   "metadata": {},
   "outputs": [
    {
     "data": {
      "text/plain": [
       "(1, 150, 8)"
      ]
     },
     "execution_count": 33,
     "metadata": {},
     "output_type": "execute_result"
    }
   ],
   "source": [
    "d = dataset.reshape(1, 150, 8)\n",
    "d.shape"
   ]
  },
  {
   "cell_type": "code",
   "execution_count": 65,
   "metadata": {},
   "outputs": [],
   "source": [
    "model_name = 'SIR'\n",
    "timestep = 0.5\n",
    "endtime = 10\n",
    "dataset_id = 1\n",
    "model_id = 1\n",
    "nb_features = 3\n",
    "params_to_randomize = ['beta', 'gamma']"
   ]
  },
  {
   "cell_type": "code",
   "execution_count": 37,
   "metadata": {},
   "outputs": [],
   "source": [
    "model_name = 'X16'\n",
    "timestep = 20.0\n",
    "endtime = 200.0\n",
    "dataset_id = 2\n",
    "model_id = 1001\n",
    "nb_features = 3\n",
    "params_to_randomize = ['a11', 'a12', 'a21', 'b1']"
   ]
  },
  {
   "cell_type": "code",
   "execution_count": 3,
   "metadata": {},
   "outputs": [],
   "source": [
    "model_name = 'X44'\n",
    "timestep = 50.0\n",
    "endtime = 500.0\n",
    "dataset_id = 3\n",
    "model_id = 3001\n",
    "nb_features = 7\n",
    "params_to_randomize = ['a11', 'b1', 'gamma12']"
   ]
  },
  {
   "cell_type": "code",
   "execution_count": 66,
   "metadata": {},
   "outputs": [],
   "source": [
    "# project_folder = '/home/dn/DATA/PARAMETERIZED/' + model_name\n",
    "project_folder = r'C:\\Users\\Ivan\\Documents\\StochNetV2\\project' + model_name\n",
    "project_explorer = ProjectFileExplorer(project_folder)\n",
    "dataset_explorer = project_explorer.get_dataset_file_explorer(timestep, dataset_id)\n",
    "model_explorer = project_explorer.get_model_file_explorer(timestep, model_id)\n",
    "\n",
    "body_config_path = model_explorer.body_config_fp\n",
    "mixture_config_path = model_explorer.mixture_config_fp"
   ]
  },
  {
   "cell_type": "code",
   "execution_count": 67,
   "metadata": {},
   "outputs": [],
   "source": [
    "CRN_module = import_module(\"stochnet_v2.CRN_models.\" + model_name)\n",
    "CRN_class = getattr(CRN_module, model_name)"
   ]
  },
  {
   "cell_type": "markdown",
   "metadata": {},
   "source": [
    "## Generate traces"
   ]
  },
  {
   "cell_type": "code",
   "execution_count": 68,
   "metadata": {
    "scrolled": true
   },
   "outputs": [
    {
     "name": "stdout",
     "output_type": "stream",
     "text": [
      "settings shape: (15, 3)\n",
      "Saving settings to C:\\Users\\Ivan\\Documents\\StochNetV2\\projectSIR\\dataset/data\\0.5\\1\\settings.npy\n"
     ]
    },
    {
     "name": "stderr",
     "output_type": "stream",
     "text": [
      "100%|█████████████████████████████████████████████████████████████████████████████████| 15/15 [00:00<00:00, 197.89it/s]\n"
     ]
    },
    {
     "name": "stdout",
     "output_type": "stream",
     "text": [
      "Saving dataset to C:\\Users\\Ivan\\Documents\\StochNetV2\\projectSIR\\dataset/data\\0.5\\1\\dataset.npy\n",
      "histogram_settings shape: (10, 3)\n",
      "Saving histogram_settings to C:\\Users\\Ivan\\Documents\\StochNetV2\\projectSIR\\dataset/data\\0.5\\1\\histogram_settings.npy\n"
     ]
    },
    {
     "name": "stderr",
     "output_type": "stream",
     "text": [
      "100%|█████████████████████████████████████████████████████████████████████████████████| 10/10 [00:00<00:00, 238.57it/s]"
     ]
    },
    {
     "name": "stdout",
     "output_type": "stream",
     "text": [
      "Saving histogram_dataset to C:\\Users\\Ivan\\Documents\\StochNetV2\\projectSIR\\dataset/data\\0.5\\1\\histogram_dataset.npy\n"
     ]
    },
    {
     "name": "stderr",
     "output_type": "stream",
     "text": [
      "\n"
     ]
    }
   ],
   "source": [
    "nb_settings = 15\n",
    "nb_trajectories = 10\n",
    "\n",
    "nb_histogram_settings = 10\n",
    "nb_histogram_trajectories = 20\n",
    "\n",
    "\n",
    "settings = CRN_class.get_initial_settings(nb_settings)\n",
    "print(f\"settings shape: {settings.shape}\")\n",
    "print(f\"Saving settings to {dataset_explorer.settings_fp}\")\n",
    "np.save(dataset_explorer.settings_fp, settings)\n",
    "\n",
    "dataset = build_simulation_dataset(\n",
    "    model_name,\n",
    "    nb_settings,\n",
    "    nb_trajectories,\n",
    "    timestep,\n",
    "    endtime,\n",
    "    dataset_explorer.dataset_folder,\n",
    "    params_to_randomize=params_to_randomize,\n",
    "    how='concat'\n",
    ")\n",
    "print(f\"Saving dataset to {dataset_explorer.dataset_fp}\")\n",
    "np.save(dataset_explorer.dataset_fp, dataset)\n",
    "\n",
    "\n",
    "histogram_settings = CRN_class.get_initial_settings(nb_histogram_settings)\n",
    "print(f\"histogram_settings shape: {histogram_settings.shape}\")\n",
    "print(f\"Saving histogram_settings to {dataset_explorer.histogram_settings_fp}\")\n",
    "np.save(dataset_explorer.histogram_settings_fp, histogram_settings)\n",
    "\n",
    "histogram_dataset = build_simulation_dataset(\n",
    "    model_name,\n",
    "    nb_histogram_settings,\n",
    "    nb_histogram_trajectories,\n",
    "    timestep,\n",
    "    endtime,\n",
    "    dataset_explorer.dataset_folder,\n",
    "    params_to_randomize=params_to_randomize,\n",
    "    prefix='histogram_partial_',\n",
    "    how='stack',\n",
    "    settings_filename=os.path.basename(dataset_explorer.histogram_settings_fp),\n",
    ")\n",
    "print(f\"Saving histogram_dataset to {dataset_explorer.histogram_dataset_fp}\")\n",
    "np.save(dataset_explorer.histogram_dataset_fp, histogram_dataset)"
   ]
  },
  {
   "cell_type": "code",
   "execution_count": 69,
   "metadata": {},
   "outputs": [
    {
     "data": {
      "text/plain": [
       "(10, 20, 6)"
      ]
     },
     "execution_count": 69,
     "metadata": {},
     "output_type": "execute_result"
    }
   ],
   "source": [
    "histogram_dataset = np.load(dataset_explorer.histogram_dataset_fp)\n",
    "histogram_dataset.shape"
   ]
  },
  {
   "cell_type": "code",
   "execution_count": 70,
   "metadata": {},
   "outputs": [
    {
     "data": {
      "text/plain": [
       "(150, 6)"
      ]
     },
     "execution_count": 70,
     "metadata": {},
     "output_type": "execute_result"
    }
   ],
   "source": [
    "dataset = np.load(dataset_explorer.dataset_fp)\n",
    "dataset.shape"
   ]
  },
  {
   "cell_type": "markdown",
   "metadata": {},
   "source": [
    "#### Plot traces"
   ]
  },
  {
   "cell_type": "code",
   "execution_count": 80,
   "metadata": {},
   "outputs": [
    {
     "data": {
      "image/png": "[encoded data removed]",
      "text/plain": [
       "<Figure size 1152x720 with 1 Axes>"
      ]
     },
     "metadata": {
      "needs_background": "light"
     },
     "output_type": "display_data"
    }
   ],
   "source": [
    "n = 10\n",
    "\n",
    "plt.figure(figsize=(16, 10))\n",
    "plot_random_traces(dataset, 1, labels=CRN_class.get_species_names() + params_to_randomize)\n",
    "plt.legend()\n",
    "plot_random_traces(dataset, n - 1, labels=CRN_class.get_species_names() + params_to_randomize)"
   ]
  },
  {
   "cell_type": "code",
   "execution_count": 28,
   "metadata": {},
   "outputs": [
    {
     "ename": "IndexError",
     "evalue": "too many indices for array: array is 1-dimensional, but 2 were indexed",
     "output_type": "error",
     "traceback": [
      "\u001b[1;31m---------------------------------------------------------------------------\u001b[0m",
      "\u001b[1;31mIndexError\u001b[0m                                Traceback (most recent call last)",
      "\u001b[1;32m~\\AppData\\Local\\Temp/ipykernel_10208/3583363626.py\u001b[0m in \u001b[0;36m<module>\u001b[1;34m\u001b[0m\n\u001b[0;32m      3\u001b[0m \u001b[1;33m\u001b[0m\u001b[0m\n\u001b[0;32m      4\u001b[0m \u001b[0mplt\u001b[0m\u001b[1;33m.\u001b[0m\u001b[0mfigure\u001b[0m\u001b[1;33m(\u001b[0m\u001b[0mfigsize\u001b[0m\u001b[1;33m=\u001b[0m\u001b[1;33m(\u001b[0m\u001b[1;36m16\u001b[0m\u001b[1;33m,\u001b[0m \u001b[1;36m10\u001b[0m\u001b[1;33m)\u001b[0m\u001b[1;33m)\u001b[0m\u001b[1;33m\u001b[0m\u001b[1;33m\u001b[0m\u001b[0m\n\u001b[1;32m----> 5\u001b[1;33m \u001b[0mplot_random_traces\u001b[0m\u001b[1;33m(\u001b[0m\u001b[0mhistogram_dataset\u001b[0m\u001b[1;33m[\u001b[0m\u001b[0msetting_idx\u001b[0m\u001b[1;33m]\u001b[0m\u001b[1;33m,\u001b[0m \u001b[1;36m1\u001b[0m\u001b[1;33m,\u001b[0m \u001b[0mlabels\u001b[0m\u001b[1;33m=\u001b[0m\u001b[0mCRN_class\u001b[0m\u001b[1;33m.\u001b[0m\u001b[0mget_species_names\u001b[0m\u001b[1;33m(\u001b[0m\u001b[1;33m)\u001b[0m \u001b[1;33m+\u001b[0m \u001b[0mparams_to_randomize\u001b[0m\u001b[1;33m)\u001b[0m\u001b[1;33m\u001b[0m\u001b[1;33m\u001b[0m\u001b[0m\n\u001b[0m\u001b[0;32m      6\u001b[0m \u001b[0mplt\u001b[0m\u001b[1;33m.\u001b[0m\u001b[0mlegend\u001b[0m\u001b[1;33m(\u001b[0m\u001b[1;33m)\u001b[0m\u001b[1;33m\u001b[0m\u001b[1;33m\u001b[0m\u001b[0m\n\u001b[0;32m      7\u001b[0m \u001b[0mplot_random_traces\u001b[0m\u001b[1;33m(\u001b[0m\u001b[0mhistogram_dataset\u001b[0m\u001b[1;33m[\u001b[0m\u001b[0msetting_idx\u001b[0m\u001b[1;33m]\u001b[0m\u001b[1;33m,\u001b[0m \u001b[0mn\u001b[0m \u001b[1;33m-\u001b[0m \u001b[1;36m1\u001b[0m\u001b[1;33m,\u001b[0m \u001b[0mlabels\u001b[0m\u001b[1;33m=\u001b[0m\u001b[0mCRN_class\u001b[0m\u001b[1;33m.\u001b[0m\u001b[0mget_species_names\u001b[0m\u001b[1;33m(\u001b[0m\u001b[1;33m)\u001b[0m \u001b[1;33m+\u001b[0m \u001b[0mparams_to_randomize\u001b[0m\u001b[1;33m)\u001b[0m\u001b[1;33m\u001b[0m\u001b[1;33m\u001b[0m\u001b[0m\n",
      "\u001b[1;32m~\\miniconda3\\envs\\py37-tf1\\lib\\site-packages\\stochnet_v2\\utils\\util.py\u001b[0m in \u001b[0;36mplot_random_traces\u001b[1;34m(data, n, show, **kwargs)\u001b[0m\n\u001b[0;32m     77\u001b[0m \u001b[1;32mdef\u001b[0m \u001b[0mplot_random_traces\u001b[0m\u001b[1;33m(\u001b[0m\u001b[0mdata\u001b[0m\u001b[1;33m,\u001b[0m \u001b[0mn\u001b[0m\u001b[1;33m,\u001b[0m \u001b[0mshow\u001b[0m\u001b[1;33m=\u001b[0m\u001b[1;32mFalse\u001b[0m\u001b[1;33m,\u001b[0m \u001b[1;33m**\u001b[0m\u001b[0mkwargs\u001b[0m\u001b[1;33m)\u001b[0m\u001b[1;33m:\u001b[0m\u001b[1;33m\u001b[0m\u001b[1;33m\u001b[0m\u001b[0m\n\u001b[0;32m     78\u001b[0m     \u001b[1;32mfor\u001b[0m \u001b[0mi\u001b[0m \u001b[1;32min\u001b[0m \u001b[0mrandom_pick_traces\u001b[0m\u001b[1;33m(\u001b[0m\u001b[0mdata\u001b[0m\u001b[1;33m.\u001b[0m\u001b[0mshape\u001b[0m\u001b[1;33m,\u001b[0m \u001b[0mn\u001b[0m\u001b[1;33m)\u001b[0m\u001b[1;33m:\u001b[0m\u001b[1;33m\u001b[0m\u001b[1;33m\u001b[0m\u001b[0m\n\u001b[1;32m---> 79\u001b[1;33m         \u001b[0mplot_trace\u001b[0m\u001b[1;33m(\u001b[0m\u001b[0mdata\u001b[0m\u001b[1;33m[\u001b[0m\u001b[0mi\u001b[0m\u001b[1;33m]\u001b[0m\u001b[1;33m,\u001b[0m \u001b[0mshow\u001b[0m\u001b[1;33m=\u001b[0m\u001b[0mshow\u001b[0m\u001b[1;33m,\u001b[0m \u001b[1;33m**\u001b[0m\u001b[0mkwargs\u001b[0m\u001b[1;33m)\u001b[0m\u001b[1;33m\u001b[0m\u001b[1;33m\u001b[0m\u001b[0m\n\u001b[0m\u001b[0;32m     80\u001b[0m \u001b[1;33m\u001b[0m\u001b[0m\n\u001b[0;32m     81\u001b[0m \u001b[1;33m\u001b[0m\u001b[0m\n",
      "\u001b[1;32m~\\miniconda3\\envs\\py37-tf1\\lib\\site-packages\\stochnet_v2\\utils\\util.py\u001b[0m in \u001b[0;36mplot_trace\u001b[1;34m(trace, show, labels, **kwargs)\u001b[0m\n\u001b[0;32m     56\u001b[0m     \u001b[1;32mfor\u001b[0m \u001b[0mi\u001b[0m \u001b[1;32min\u001b[0m \u001b[0mrange\u001b[0m\u001b[1;33m(\u001b[0m\u001b[0mn_species\u001b[0m\u001b[1;33m)\u001b[0m\u001b[1;33m:\u001b[0m\u001b[1;33m\u001b[0m\u001b[1;33m\u001b[0m\u001b[0m\n\u001b[0;32m     57\u001b[0m         \u001b[0mlab\u001b[0m \u001b[1;33m=\u001b[0m \u001b[0mlabels\u001b[0m\u001b[1;33m[\u001b[0m\u001b[0mi\u001b[0m\u001b[1;33m]\u001b[0m \u001b[1;32mif\u001b[0m \u001b[0mlabels\u001b[0m \u001b[1;32melse\u001b[0m \u001b[1;32mNone\u001b[0m\u001b[1;33m\u001b[0m\u001b[1;33m\u001b[0m\u001b[0m\n\u001b[1;32m---> 58\u001b[1;33m         \u001b[0mplt\u001b[0m\u001b[1;33m.\u001b[0m\u001b[0mplot\u001b[0m\u001b[1;33m(\u001b[0m\u001b[0mtrace\u001b[0m\u001b[1;33m[\u001b[0m\u001b[1;33m:\u001b[0m\u001b[1;33m,\u001b[0m \u001b[0mi\u001b[0m\u001b[1;33m+\u001b[0m\u001b[1;36m1\u001b[0m\u001b[1;33m]\u001b[0m\u001b[1;33m,\u001b[0m \u001b[0mc\u001b[0m\u001b[1;33m=\u001b[0m\u001b[0mcmap\u001b[0m\u001b[1;33m(\u001b[0m\u001b[0mi\u001b[0m\u001b[1;33m)\u001b[0m\u001b[1;33m,\u001b[0m \u001b[0mlabel\u001b[0m\u001b[1;33m=\u001b[0m\u001b[0mlab\u001b[0m\u001b[1;33m,\u001b[0m \u001b[1;33m**\u001b[0m\u001b[0mkwargs\u001b[0m\u001b[1;33m)\u001b[0m\u001b[1;33m\u001b[0m\u001b[1;33m\u001b[0m\u001b[0m\n\u001b[0m\u001b[0;32m     59\u001b[0m     \u001b[1;32mif\u001b[0m \u001b[0mshow\u001b[0m \u001b[1;32mis\u001b[0m \u001b[1;32mTrue\u001b[0m\u001b[1;33m:\u001b[0m\u001b[1;33m\u001b[0m\u001b[1;33m\u001b[0m\u001b[0m\n\u001b[0;32m     60\u001b[0m         \u001b[0mplt\u001b[0m\u001b[1;33m.\u001b[0m\u001b[0mshow\u001b[0m\u001b[1;33m(\u001b[0m\u001b[1;33m)\u001b[0m\u001b[1;33m\u001b[0m\u001b[1;33m\u001b[0m\u001b[0m\n",
      "\u001b[1;31mIndexError\u001b[0m: too many indices for array: array is 1-dimensional, but 2 were indexed"
     ]
    },
    {
     "data": {
      "text/plain": [
       "<Figure size 1152x720 with 0 Axes>"
      ]
     },
     "metadata": {},
     "output_type": "display_data"
    }
   ],
   "source": [
    "setting_idx = 0\n",
    "n = 10\n",
    "\n",
    "plt.figure(figsize=(16, 10))\n",
    "plot_random_traces(histogram_dataset[setting_idx], 1, labels=CRN_class.get_species_names() + params_to_randomize)\n",
    "plt.legend()\n",
    "plot_random_traces(histogram_dataset[setting_idx], n - 1, labels=CRN_class.get_species_names() + params_to_randomize)"
   ]
  },
  {
   "cell_type": "code",
   "execution_count": null,
   "metadata": {},
   "outputs": [],
   "source": []
  },
  {
   "cell_type": "markdown",
   "metadata": {},
   "source": [
    "## Transform Dataset"
   ]
  },
  {
   "cell_type": "code",
   "execution_count": 41,
   "metadata": {},
   "outputs": [
    {
     "ename": "ValueError",
     "evalue": "could not convert string to float: 'time'",
     "output_type": "error",
     "traceback": [
      "\u001b[1;31m---------------------------------------------------------------------------\u001b[0m",
      "\u001b[1;31mValueError\u001b[0m                                Traceback (most recent call last)",
      "\u001b[1;32m~\\AppData\\Local\\Temp/ipykernel_10208/1250737340.py\u001b[0m in \u001b[0;36m<module>\u001b[1;34m\u001b[0m\n\u001b[0;32m      2\u001b[0m     \u001b[0mdataset_explorer\u001b[0m\u001b[1;33m.\u001b[0m\u001b[0mdataset_fp\u001b[0m\u001b[1;33m,\u001b[0m\u001b[1;33m\u001b[0m\u001b[1;33m\u001b[0m\u001b[0m\n\u001b[0;32m      3\u001b[0m     \u001b[0mwith_timestamps\u001b[0m\u001b[1;33m=\u001b[0m\u001b[1;32mTrue\u001b[0m\u001b[1;33m,\u001b[0m\u001b[1;33m\u001b[0m\u001b[1;33m\u001b[0m\u001b[0m\n\u001b[1;32m----> 4\u001b[1;33m     \u001b[0mnb_randomized_params\u001b[0m\u001b[1;33m=\u001b[0m\u001b[0mlen\u001b[0m\u001b[1;33m(\u001b[0m\u001b[0mparams_to_randomize\u001b[0m\u001b[1;33m)\u001b[0m\u001b[1;33m\u001b[0m\u001b[1;33m\u001b[0m\u001b[0m\n\u001b[0m\u001b[0;32m      5\u001b[0m )\n",
      "\u001b[1;32m~\\miniconda3\\envs\\py37-tf1\\lib\\site-packages\\stochnet_v2\\dataset\\dataset.py\u001b[0m in \u001b[0;36m__init__\u001b[1;34m(self, dataset_address, with_timestamps, nb_randomized_params)\u001b[0m\n\u001b[0;32m     48\u001b[0m         \u001b[0mself\u001b[0m\u001b[1;33m.\u001b[0m\u001b[0mdtype\u001b[0m \u001b[1;33m=\u001b[0m \u001b[0mnp\u001b[0m\u001b[1;33m.\u001b[0m\u001b[0mfloat32\u001b[0m\u001b[1;33m\u001b[0m\u001b[1;33m\u001b[0m\u001b[0m\n\u001b[0;32m     49\u001b[0m \u001b[1;33m\u001b[0m\u001b[0m\n\u001b[1;32m---> 50\u001b[1;33m         \u001b[0mself\u001b[0m\u001b[1;33m.\u001b[0m\u001b[0mread_data\u001b[0m\u001b[1;33m(\u001b[0m\u001b[0mdataset_address\u001b[0m\u001b[1;33m)\u001b[0m\u001b[1;33m\u001b[0m\u001b[1;33m\u001b[0m\u001b[0m\n\u001b[0m\u001b[0;32m     51\u001b[0m \u001b[1;33m\u001b[0m\u001b[0m\n\u001b[0;32m     52\u001b[0m     \u001b[1;33m@\u001b[0m\u001b[0mproperty\u001b[0m\u001b[1;33m\u001b[0m\u001b[1;33m\u001b[0m\u001b[0m\n",
      "\u001b[1;32m~\\miniconda3\\envs\\py37-tf1\\lib\\site-packages\\stochnet_v2\\dataset\\dataset.py\u001b[0m in \u001b[0;36mread_data\u001b[1;34m(self, dataset_address)\u001b[0m\n\u001b[0;32m     57\u001b[0m         \u001b[1;34m\"\"\"Read data and memorize shape.\"\"\"\u001b[0m\u001b[1;33m\u001b[0m\u001b[1;33m\u001b[0m\u001b[0m\n\u001b[0;32m     58\u001b[0m         \u001b[1;32mwith\u001b[0m \u001b[0mopen\u001b[0m\u001b[1;33m(\u001b[0m\u001b[0mdataset_address\u001b[0m\u001b[1;33m,\u001b[0m \u001b[1;34m'rb'\u001b[0m\u001b[1;33m)\u001b[0m \u001b[1;32mas\u001b[0m \u001b[0mdata_file\u001b[0m\u001b[1;33m:\u001b[0m\u001b[1;33m\u001b[0m\u001b[1;33m\u001b[0m\u001b[0m\n\u001b[1;32m---> 59\u001b[1;33m             \u001b[0mself\u001b[0m\u001b[1;33m.\u001b[0m\u001b[0mdata\u001b[0m \u001b[1;33m=\u001b[0m \u001b[0mnp\u001b[0m\u001b[1;33m.\u001b[0m\u001b[0masarray\u001b[0m\u001b[1;33m(\u001b[0m\u001b[0mnp\u001b[0m\u001b[1;33m.\u001b[0m\u001b[0mload\u001b[0m\u001b[1;33m(\u001b[0m\u001b[0mdata_file\u001b[0m\u001b[1;33m)\u001b[0m\u001b[1;33m,\u001b[0m \u001b[0mdtype\u001b[0m\u001b[1;33m=\u001b[0m\u001b[0mself\u001b[0m\u001b[1;33m.\u001b[0m\u001b[0mdtype\u001b[0m\u001b[1;33m)\u001b[0m\u001b[1;33m\u001b[0m\u001b[1;33m\u001b[0m\u001b[0m\n\u001b[0m\u001b[0;32m     60\u001b[0m             \u001b[0mself\u001b[0m\u001b[1;33m.\u001b[0m\u001b[0m_memorize_dataset_shape\u001b[0m\u001b[1;33m(\u001b[0m\u001b[1;33m)\u001b[0m\u001b[1;33m\u001b[0m\u001b[1;33m\u001b[0m\u001b[0m\n\u001b[0;32m     61\u001b[0m \u001b[1;33m\u001b[0m\u001b[0m\n",
      "\u001b[1;31mValueError\u001b[0m: could not convert string to float: 'time'"
     ]
    }
   ],
   "source": [
    "dt = DataTransformer(\n",
    "    dataset_explorer.dataset_fp,\n",
    "    with_timestamps=True,\n",
    "    nb_randomized_params=len(params_to_randomize)\n",
    ")"
   ]
  },
  {
   "cell_type": "code",
   "execution_count": 13,
   "metadata": {},
   "outputs": [
    {
     "ename": "NameError",
     "evalue": "name 'dt' is not defined",
     "output_type": "error",
     "traceback": [
      "\u001b[1;31m---------------------------------------------------------------------------\u001b[0m",
      "\u001b[1;31mNameError\u001b[0m                                 Traceback (most recent call last)",
      "\u001b[1;32m~\\AppData\\Local\\Temp/ipykernel_14876/3397954144.py\u001b[0m in \u001b[0;36m<module>\u001b[1;34m\u001b[0m\n\u001b[0;32m      1\u001b[0m \u001b[0mnp\u001b[0m\u001b[1;33m.\u001b[0m\u001b[0mrandom\u001b[0m\u001b[1;33m.\u001b[0m\u001b[0mseed\u001b[0m\u001b[1;33m(\u001b[0m\u001b[1;36m11\u001b[0m\u001b[1;33m)\u001b[0m\u001b[1;33m\u001b[0m\u001b[1;33m\u001b[0m\u001b[0m\n\u001b[0;32m      2\u001b[0m \u001b[1;33m\u001b[0m\u001b[0m\n\u001b[1;32m----> 3\u001b[1;33m dt.save_data_for_ml_hdf5(\n\u001b[0m\u001b[0;32m      4\u001b[0m     \u001b[0mdataset_folder\u001b[0m\u001b[1;33m=\u001b[0m\u001b[0mdataset_explorer\u001b[0m\u001b[1;33m.\u001b[0m\u001b[0mdataset_folder\u001b[0m\u001b[1;33m,\u001b[0m\u001b[1;33m\u001b[0m\u001b[1;33m\u001b[0m\u001b[0m\n\u001b[0;32m      5\u001b[0m     \u001b[0mnb_past_timesteps\u001b[0m\u001b[1;33m=\u001b[0m\u001b[1;36m1\u001b[0m\u001b[1;33m,\u001b[0m\u001b[1;33m\u001b[0m\u001b[1;33m\u001b[0m\u001b[0m\n",
      "\u001b[1;31mNameError\u001b[0m: name 'dt' is not defined"
     ]
    }
   ],
   "source": [
    "np.random.seed(11)\n",
    "\n",
    "dt.save_data_for_ml_hdf5(\n",
    "    dataset_folder=dataset_explorer.dataset_folder,\n",
    "    nb_past_timesteps=1,\n",
    "    test_fraction=0.2,\n",
    "    keep_timestamps=False,\n",
    "    rescale=True,\n",
    "    positivity=False,\n",
    "    shuffle=True,\n",
    "    slice_size=100,\n",
    "    force_rewrite=True\n",
    ")"
   ]
  },
  {
   "cell_type": "markdown",
   "metadata": {},
   "source": [
    "#### Check training data"
   ]
  },
  {
   "cell_type": "code",
   "execution_count": null,
   "metadata": {},
   "outputs": [],
   "source": [
    "import h5py\n",
    "\n",
    "data_file = h5py.File(dataset_explorer.train_rescaled_fp, 'r')\n",
    "\n",
    "x_data = data_file['x']\n",
    "y_data = data_file['y']\n",
    "\n",
    "i = 200\n",
    "\n",
    "dt.scale_back(x_data[i]), dt.scale_back(y_data[i])"
   ]
  },
  {
   "cell_type": "markdown",
   "metadata": {},
   "source": [
    "#### Check dataset iterator"
   ]
  },
  {
   "cell_type": "code",
   "execution_count": null,
   "metadata": {},
   "outputs": [],
   "source": [
    "ds = HDF5Dataset(dataset_explorer.train_rescaled_fp, 64)"
   ]
  },
  {
   "cell_type": "code",
   "execution_count": null,
   "metadata": {},
   "outputs": [],
   "source": [
    "c = 0\n",
    "\n",
    "for x, y in ds:\n",
    "    print(f'{x.shape}, {y.shape}')\n",
    "    c += 1\n",
    "    if c > 10:\n",
    "        break\n",
    "    else:\n",
    "        continue\n",
    "    break"
   ]
  },
  {
   "cell_type": "code",
   "execution_count": null,
   "metadata": {},
   "outputs": [],
   "source": []
  },
  {
   "cell_type": "markdown",
   "metadata": {},
   "source": [
    "## Model"
   ]
  },
  {
   "cell_type": "markdown",
   "metadata": {},
   "source": [
    "#### Configure model"
   ]
  },
  {
   "cell_type": "code",
   "execution_count": null,
   "metadata": {},
   "outputs": [],
   "source": [
    "body_hidden_size = 30\n",
    "body_n_blocks = 2\n",
    "body_activation = \"relu\"\n",
    "body_regularizer = \"none\"\n",
    "body_kernel_constraint = \"none\"\n",
    "body_bias_constraint = \"none\"\n",
    "body_kernel_regularizer = \"l2\"\n",
    "body_bias_regularizer = \"l2\"\n",
    "\n",
    "\n",
    "components_hidden_size = \"none\"\n",
    "n_normal_diag = 6\n",
    "n_normal_tril = 0\n",
    "n_log_normal_tril = 0\n",
    "components_activation = \"none\"\n",
    "components_regularizer = \"none\"\n",
    "components_kernel_constraint = \"none\"\n",
    "components_bias_constraint = \"none\"\n",
    "components_kernel_regularizer = \"l2\"\n",
    "components_bias_regularizer = \"l2\"\n",
    "\n",
    "\n",
    "body_config = {\n",
    "    \"body_fn_name\": \"body_b\",\n",
    "    \"block_name\": \"a\",\n",
    "    \"hidden_size\": body_hidden_size,\n",
    "    \"n_blocks\": body_n_blocks,\n",
    "    \"use_batch_norm\": False,\n",
    "    \"activation\": body_activation,\n",
    "    \"activity_regularizer\": body_regularizer,\n",
    "    \"kernel_constraint\": body_kernel_constraint,\n",
    "    \"kernel_regularizer\": body_kernel_regularizer,\n",
    "    \"bias_constraint\": body_bias_constraint,\n",
    "    \"bias_regularizer\": body_bias_regularizer\n",
    "}\n",
    "\n",
    "categorical_config = {\n",
    "    \"hidden_size\": components_hidden_size,\n",
    "    \"activation\": components_activation,\n",
    "    \"coeff_regularizer\": \"none\",\n",
    "    \"kernel_constraint\": components_kernel_constraint,  # \"maxnorm\"\n",
    "    \"kernel_regularizer\": components_kernel_regularizer,\n",
    "    \"bias_constraint\": components_bias_constraint,  # \"maxnorm\"\n",
    "    \"bias_regularizer\": components_bias_regularizer\n",
    "}\n",
    "\n",
    "normal_diag_config = {\n",
    "    \"hidden_size\": components_hidden_size,\n",
    "    \"activation\": components_activation,\n",
    "    \"mu_regularizer\": components_regularizer,\n",
    "    \"diag_regularizer\": \"l2\",\n",
    "    \"kernel_constraint\": components_kernel_constraint,\n",
    "    \"kernel_regularizer\": components_kernel_regularizer,\n",
    "    \"bias_constraint\": components_bias_constraint,\n",
    "    \"bias_regularizer\": components_bias_regularizer\n",
    "}\n",
    "\n",
    "normal_tril_config = {\n",
    "    \"hidden_size\": components_hidden_size,\n",
    "    \"activation\": components_activation,\n",
    "    \"mu_regularizer\": components_regularizer,\n",
    "    \"diag_regularizer\": components_regularizer,\n",
    "    \"sub_diag_regularizer\": components_regularizer,\n",
    "    \"kernel_constraint\": components_kernel_constraint,\n",
    "    \"kernel_regularizer\": components_kernel_regularizer,\n",
    "    \"bias_constraint\": components_bias_constraint,\n",
    "    \"bias_regularizer\": components_bias_regularizer\n",
    "}\n",
    "\n",
    "log_normal_tril_config = {\n",
    "    \"hidden_size\": components_hidden_size,\n",
    "    \"activation\": components_activation,\n",
    "    \"mu_regularizer\": components_regularizer,\n",
    "    \"diag_regularizer\": components_regularizer,\n",
    "    \"sub_diag_regularizer\": components_regularizer,\n",
    "    \"kernel_constraint\": components_kernel_constraint,\n",
    "    \"kernel_regularizer\": components_kernel_regularizer,\n",
    "    \"bias_constraint\": components_bias_constraint,\n",
    "    \"bias_regularizer\": components_bias_regularizer\n",
    "}"
   ]
  },
  {
   "cell_type": "markdown",
   "metadata": {},
   "source": [
    "#### Write config files"
   ]
  },
  {
   "cell_type": "code",
   "execution_count": null,
   "metadata": {},
   "outputs": [],
   "source": [
    "mixture_config = \\\n",
    "[[\"categorical\", categorical_config]] + \\\n",
    "[[\"normal_diag\", normal_diag_config] for i in range(n_normal_diag)] + \\\n",
    "[[\"normal_tril\", normal_tril_config] for i in range(n_normal_tril)] + \\\n",
    "[[\"log_normal_tril\", log_normal_tril_config] for i in range(n_log_normal_tril)]\n",
    "\n",
    "with open(body_config_path, 'w+') as f:\n",
    "    json.dump(body_config, f, indent='\\t')\n",
    "\n",
    "with open(mixture_config_path, 'w+') as f:\n",
    "    json.dump(mixture_config, f, indent='\\t')"
   ]
  },
  {
   "cell_type": "markdown",
   "metadata": {},
   "source": [
    "## Configure training strategy"
   ]
  },
  {
   "cell_type": "code",
   "execution_count": null,
   "metadata": {},
   "outputs": [],
   "source": [
    "learning_strategy = ToleranceDropLearningStrategy(\n",
    "    optimizer_type='adam',\n",
    "    initial_lr=1e-4,\n",
    "    lr_decay=0.3,\n",
    "    epochs_tolerance=7,\n",
    "    minimal_lr=1e-7,\n",
    ")\n",
    "\n",
    "n_epochs = 60\n",
    "batch_size = 256\n",
    "add_noise = True\n",
    "stddev = 0.01\n",
    "dataset_kind = 'hdf5'"
   ]
  },
  {
   "cell_type": "markdown",
   "metadata": {},
   "source": [
    "## Initialize model"
   ]
  },
  {
   "cell_type": "code",
   "execution_count": null,
   "metadata": {},
   "outputs": [],
   "source": [
    "nn = StochNet(\n",
    "    nb_past_timesteps=1,\n",
    "    nb_features=nb_features,\n",
    "    nb_randomized_params=len(params_to_randomize),\n",
    "    project_folder=project_folder,\n",
    "    timestep=timestep,\n",
    "    dataset_id=dataset_id,\n",
    "    model_id=model_id,\n",
    ")"
   ]
  },
  {
   "cell_type": "markdown",
   "metadata": {},
   "source": [
    "## Train model"
   ]
  },
  {
   "cell_type": "code",
   "execution_count": null,
   "metadata": {
    "scrolled": true
   },
   "outputs": [],
   "source": [
    "ckpt_path = None\n",
    "\n",
    "ckpt_path = Trainer().train(\n",
    "    nn,\n",
    "    n_epochs=n_epochs,\n",
    "    batch_size=batch_size,\n",
    "    learning_strategy=learning_strategy,\n",
    "    ckpt_path=ckpt_path,\n",
    "    dataset_kind=dataset_kind,\n",
    "    add_noise=add_noise,\n",
    "    stddev=stddev,\n",
    ")\n",
    "\n",
    "ckpt_path"
   ]
  },
  {
   "cell_type": "raw",
   "metadata": {},
   "source": []
  },
  {
   "cell_type": "code",
   "execution_count": null,
   "metadata": {},
   "outputs": [],
   "source": []
  },
  {
   "cell_type": "markdown",
   "metadata": {},
   "source": [
    "## Evaluate"
   ]
  },
  {
   "cell_type": "code",
   "execution_count": null,
   "metadata": {},
   "outputs": [],
   "source": [
    "from stochnet_v2.utils.evaluation import evaluate\n",
    "from stochnet_v2.utils.util import plot_random_traces"
   ]
  },
  {
   "cell_type": "code",
   "execution_count": null,
   "metadata": {},
   "outputs": [],
   "source": [
    "distance_kind = 'dist'\n",
    "target_species_names = ['S', 'I']\n",
    "time_lag_range = [1, 3, 5, 10, 15, 20]\n",
    "settings_idxs_to_save_histograms = [i for i in range(10)]"
   ]
  },
  {
   "cell_type": "code",
   "execution_count": null,
   "metadata": {},
   "outputs": [],
   "source": [
    "histogram_explorer = dataset_explorer.get_histogram_file_explorer(model_id, 0)\n",
    "nn_histogram_data_fp = os.path.join(histogram_explorer.model_histogram_folder, 'nn_histogram_data.npy')\n",
    "\n",
    "evaluate(\n",
    "    model_name=model_name,\n",
    "    project_folder=project_folder,\n",
    "    timestep=timestep,\n",
    "    dataset_id=dataset_id,\n",
    "    model_id=model_id,\n",
    "    nb_randomized_params=len(params_to_randomize),\n",
    "    nb_past_timesteps=1,\n",
    "    n_bins=100,\n",
    "    distance_kind=distance_kind,\n",
    "    with_timestamps=True,\n",
    "    save_histograms=True,\n",
    "    time_lag_range=time_lag_range,\n",
    "    target_species_names=target_species_names,\n",
    "    path_to_save_nn_traces=nn_histogram_data_fp,\n",
    "    settings_idxs_to_save_histograms=settings_idxs_to_save_histograms,\n",
    ")"
   ]
  },
  {
   "cell_type": "code",
   "execution_count": null,
   "metadata": {},
   "outputs": [],
   "source": []
  },
  {
   "cell_type": "code",
   "execution_count": null,
   "metadata": {},
   "outputs": [],
   "source": []
  },
  {
   "cell_type": "markdown",
   "metadata": {},
   "source": [
    "## Load trained model"
   ]
  },
  {
   "cell_type": "code",
   "execution_count": null,
   "metadata": {},
   "outputs": [],
   "source": [
    "nn = StochNet(\n",
    "    nb_past_timesteps=1,\n",
    "    nb_features=nb_features,\n",
    "    nb_randomized_params=len(params_to_randomize),\n",
    "    project_folder=project_folder,\n",
    "    timestep=timestep,\n",
    "    dataset_id=dataset_id,\n",
    "    model_id=model_id,\n",
    "    mode='inference'\n",
    ")"
   ]
  },
  {
   "cell_type": "code",
   "execution_count": null,
   "metadata": {},
   "outputs": [],
   "source": [
    "n_settings = 10\n",
    "traj_per_setting = 50\n",
    "n_steps = 50\n",
    "\n",
    "m = CRN_class(endtime, timestep)\n",
    "\n",
    "initial_settings = m.get_initial_settings(n_settings)\n",
    "randomized_params = m.get_randomized_parameters(params_to_randomize, n_settings)\n",
    "\n",
    "settings = merge_species_and_param_settings(initial_settings, randomized_params)\n",
    "settings"
   ]
  },
  {
   "cell_type": "code",
   "execution_count": null,
   "metadata": {},
   "outputs": [],
   "source": []
  },
  {
   "cell_type": "markdown",
   "metadata": {},
   "source": [
    "#### Sample next state"
   ]
  },
  {
   "cell_type": "code",
   "execution_count": null,
   "metadata": {},
   "outputs": [],
   "source": [
    "setting_idx = 0\n",
    "\n",
    "curr_state = settings[setting_idx:setting_idx+1, np.newaxis, :]\n",
    "curr_state"
   ]
  },
  {
   "cell_type": "code",
   "execution_count": null,
   "metadata": {},
   "outputs": [],
   "source": [
    "next_state_samples = nn.next_state(\n",
    "    curr_state_values=curr_state,\n",
    "    curr_state_rescaled=False,\n",
    "    scale_back_result=True,\n",
    "    round_result=False,\n",
    "    n_samples=10000,\n",
    ")\n",
    "\n",
    "# [n_samples, n_settings, 1, n_features]\n",
    "next_state_samples.shape"
   ]
  },
  {
   "cell_type": "markdown",
   "metadata": {},
   "source": [
    "#### next state histogram"
   ]
  },
  {
   "cell_type": "code",
   "execution_count": null,
   "metadata": {},
   "outputs": [],
   "source": [
    "species_idx = 2\n",
    "\n",
    "samples = np.squeeze(next_state_samples, -2)[..., species_idx]\n",
    "\n",
    "_ = plt.hist(samples, bins=50)"
   ]
  },
  {
   "cell_type": "code",
   "execution_count": null,
   "metadata": {},
   "outputs": [],
   "source": []
  },
  {
   "cell_type": "markdown",
   "metadata": {},
   "source": [
    "### Run simulatins for original and abstract models "
   ]
  },
  {
   "cell_type": "code",
   "execution_count": null,
   "metadata": {},
   "outputs": [],
   "source": [
    "start = time()\n",
    "\n",
    "gillespy_traces = generate_gillespy_traces(\n",
    "    settings=settings,\n",
    "    n_steps=n_steps,\n",
    "    timestep=timestep,\n",
    "    gillespy_model=m,\n",
    "    params_to_randomize=params_to_randomize,\n",
    "    traj_per_setting=traj_per_setting,\n",
    ")\n",
    "\n",
    "gillespy_time = time() - start\n",
    "\n",
    "gillespy_traces.shape, gillespy_time"
   ]
  },
  {
   "cell_type": "code",
   "execution_count": null,
   "metadata": {},
   "outputs": [],
   "source": [
    "start = time()\n",
    "\n",
    "nn_traces = nn.generate_traces(\n",
    "    settings[:, np.newaxis, :],\n",
    "    n_steps=n_steps,\n",
    "    n_traces=traj_per_setting,\n",
    "    curr_state_rescaled=False,\n",
    "    scale_back_result=True,\n",
    "    round_result=True,\n",
    "    add_timestamps=True,\n",
    ")\n",
    "\n",
    "nn_time = time() - start\n",
    "\n",
    "nn_traces.shape, nn_time"
   ]
  },
  {
   "cell_type": "code",
   "execution_count": null,
   "metadata": {},
   "outputs": [],
   "source": []
  },
  {
   "cell_type": "markdown",
   "metadata": {},
   "source": [
    "### Plot traces"
   ]
  },
  {
   "cell_type": "code",
   "execution_count": null,
   "metadata": {},
   "outputs": [],
   "source": [
    "k = 1\n",
    "n_traces = 5\n",
    "\n",
    "plt.figure(figsize=(16, 10))\n",
    "plot_random_traces(gillespy_traces[k][...,:nb_features+1], n_traces, linestyle='--', marker='')\n",
    "plot_random_traces(nn_traces[k], n_traces, linestyle='-', marker='')"
   ]
  },
  {
   "cell_type": "code",
   "execution_count": null,
   "metadata": {},
   "outputs": [],
   "source": []
  },
  {
   "cell_type": "code",
   "execution_count": null,
   "metadata": {},
   "outputs": [],
   "source": []
  },
  {
   "cell_type": "code",
   "execution_count": null,
   "metadata": {},
   "outputs": [],
   "source": []
  },
  {
   "cell_type": "code",
   "execution_count": null,
   "metadata": {},
   "outputs": [],
   "source": []
  }
 ],
 "metadata": {
  "kernelspec": {
   "display_name": "py37-tf1-kernel",
   "language": "python",
   "name": "py37-tf1-kernel"
  },
  "language_info": {
   "codemirror_mode": {
    "name": "ipython",
    "version": 3
   },
   "file_extension": ".py",
   "mimetype": "text/x-python",
   "name": "python",
   "nbconvert_exporter": "python",
   "pygments_lexer": "ipython3",
   "version": "3.7.11"
  }
 },
 "nbformat": 4,
 "nbformat_minor": 2
}
