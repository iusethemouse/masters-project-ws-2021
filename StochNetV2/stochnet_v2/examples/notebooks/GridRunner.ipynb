{
 "cells": [
  {
   "cell_type": "code",
   "execution_count": 1,
   "metadata": {},
   "outputs": [
    {
     "data": {
      "text/plain": [
       "False"
      ]
     },
     "execution_count": 1,
     "metadata": {},
     "output_type": "execute_result"
    }
   ],
   "source": [
    "import os\n",
    "import sys\n",
    "import matplotlib.pyplot as plt\n",
    "import numpy as np\n",
    "import scipy\n",
    "import tensorflow as tf\n",
    "from copy import deepcopy\n",
    "from mpl_toolkits.mplot3d import Axes3D\n",
    "from matplotlib import cm, animation, colors\n",
    "from importlib import import_module\n",
    "from time import time\n",
    "\n",
    "from stochnet_v2.dataset.dataset import HDF5Dataset\n",
    "from stochnet_v2.static_classes.model import StochNet\n",
    "from stochnet_v2.dynamic_classes.model import NASStochNet\n",
    "from stochnet_v2.utils.file_organisation import ProjectFileExplorer\n",
    "from stochnet_v2.utils.util import generate_gillespy_traces, plot_random_traces, maybe_create_dir\n",
    "from stochnet_v2.utils.util import merge_species_and_param_settings\n",
    "from stochnet_v2.static_classes.grid_runner import *\n",
    "\n",
    "%load_ext autoreload\n",
    "%autoreload 2\n",
    "\n",
    "os.environ[\"CUDA_VISIBLE_DEVICES\"] = \"-1\"\n",
    "np.set_printoptions(suppress=True, precision=2, linewidth=120)\n",
    "\n",
    "tf.test.is_gpu_available()"
   ]
  },
  {
   "cell_type": "code",
   "execution_count": 5,
   "metadata": {},
   "outputs": [],
   "source": [
    "model_name = 'SIR'\n",
    "timestep = 0.5\n",
    "endtime = 50\n",
    "dataset_id = 2\n",
    "model_id = 2001\n",
    "nb_features = 3\n",
    "params_to_randomize = ['beta', 'gamma']"
   ]
  },
  {
   "cell_type": "raw",
   "metadata": {},
   "source": [
    "model_name = 'EGFR'\n",
    "timestep = 0.5\n",
    "endtime = 25.0\n",
    "dataset_id = 3\n",
    "model_id = 3017\n",
    "nb_features = 23\n",
    "nb_past_timesteps = 1\n",
    "params_to_randomize = []"
   ]
  },
  {
   "cell_type": "code",
   "execution_count": null,
   "metadata": {},
   "outputs": [],
   "source": [
    "model_name = 'Bees'\n",
    "timestep = 0.5\n",
    "endtime = 100.0\n",
    "dataset_id = 1\n",
    "model_id = 1001\n",
    "nb_features = 4\n",
    "nb_past_timesteps = 1\n",
    "params_to_randomize = []"
   ]
  },
  {
   "cell_type": "code",
   "execution_count": 6,
   "metadata": {},
   "outputs": [],
   "source": [
    "project_folder = r'C:\\Users\\Ivan\\Documents\\StochNetV2\\project_' + model_name\n",
    "\n",
    "# project_folder = '/home/dn/DATA/' + model_name\n",
    "# project_explorer = ProjectFileExplorer(project_folder)\n",
    "# dataset_explorer = project_explorer.get_dataset_file_explorer(timestep, dataset_id)\n",
    "# model_explorer = project_explorer.get_model_file_explorer(timestep, model_id)"
   ]
  },
  {
   "cell_type": "code",
   "execution_count": 7,
   "metadata": {},
   "outputs": [
    {
     "name": "stdout",
     "output_type": "stream",
     "text": [
      "root - WARNING - Unable to use C++ optimized solvers due to one or more missing dependencies: ['make']. The performance of this package can be significantly increased if you install/configure these on your machine.\n"
     ]
    },
    {
     "name": "stderr",
     "output_type": "stream",
     "text": [
      "2021-12-03 16:25:31,753 - root - WARNING - Unable to use C++ optimized solvers due to one or more missing dependencies: ['make']. The performance of this package can be significantly increased if you install/configure these on your machine.\n"
     ]
    }
   ],
   "source": [
    "CRN_module = import_module(\"stochnet_v2.CRN_models.\" + model_name)\n",
    "CRN_class = getattr(CRN_module, model_name)\n",
    "m = CRN_class(endtime, timestep)"
   ]
  },
  {
   "cell_type": "code",
   "execution_count": 8,
   "metadata": {},
   "outputs": [
    {
     "ename": "FileNotFoundError",
     "evalue": "Could not find model's frozen graph file: C:\\Users\\Ivan\\Documents\\StochNetV2\\project_SIR\\models\\0.5\\2001\\frozen_graph.pb. Did you save the model?",
     "output_type": "error",
     "traceback": [
      "\u001b[1;31m---------------------------------------------------------------------------\u001b[0m",
      "\u001b[1;31mFileNotFoundError\u001b[0m                         Traceback (most recent call last)",
      "\u001b[1;32m~\\AppData\\Local\\Temp/ipykernel_8280/1802918769.py\u001b[0m in \u001b[0;36m<module>\u001b[1;34m\u001b[0m\n\u001b[0;32m      7\u001b[0m     \u001b[0mmodel_id\u001b[0m\u001b[1;33m=\u001b[0m\u001b[0mmodel_id\u001b[0m\u001b[1;33m,\u001b[0m\u001b[1;33m\u001b[0m\u001b[1;33m\u001b[0m\u001b[0m\n\u001b[0;32m      8\u001b[0m     \u001b[0mnb_randomized_params\u001b[0m\u001b[1;33m=\u001b[0m\u001b[0mlen\u001b[0m\u001b[1;33m(\u001b[0m\u001b[0mparams_to_randomize\u001b[0m\u001b[1;33m)\u001b[0m\u001b[1;33m,\u001b[0m\u001b[1;33m\u001b[0m\u001b[1;33m\u001b[0m\u001b[0m\n\u001b[1;32m----> 9\u001b[1;33m     \u001b[0mmode\u001b[0m\u001b[1;33m=\u001b[0m\u001b[1;34m'inference'\u001b[0m\u001b[1;33m\u001b[0m\u001b[1;33m\u001b[0m\u001b[0m\n\u001b[0m\u001b[0;32m     10\u001b[0m )\n",
      "\u001b[1;32m~\\miniconda3\\envs\\py37-tf1\\lib\\site-packages\\stochnet_v2\\static_classes\\model.py\u001b[0m in \u001b[0;36m__init__\u001b[1;34m(self, nb_past_timesteps, nb_features, nb_randomized_params, project_folder, timestep, dataset_id, model_id, body_config_path, mixture_config_path, ckpt_path, mode)\u001b[0m\n\u001b[0;32m    154\u001b[0m \u001b[1;33m\u001b[0m\u001b[0m\n\u001b[0;32m    155\u001b[0m             \u001b[1;32melif\u001b[0m \u001b[0mmode\u001b[0m \u001b[1;33m==\u001b[0m \u001b[1;34m'inference'\u001b[0m\u001b[1;33m:\u001b[0m\u001b[1;33m\u001b[0m\u001b[1;33m\u001b[0m\u001b[0m\n\u001b[1;32m--> 156\u001b[1;33m                 \u001b[0mself\u001b[0m\u001b[1;33m.\u001b[0m\u001b[0m_load_model_from_frozen_graph\u001b[0m\u001b[1;33m(\u001b[0m\u001b[1;33m)\u001b[0m\u001b[1;33m\u001b[0m\u001b[1;33m\u001b[0m\u001b[0m\n\u001b[0m\u001b[0;32m    157\u001b[0m \u001b[1;33m\u001b[0m\u001b[0m\n\u001b[0;32m    158\u001b[0m             \u001b[1;32melif\u001b[0m \u001b[0mmode\u001b[0m \u001b[1;33m==\u001b[0m \u001b[1;34m'inference_ckpt'\u001b[0m\u001b[1;33m:\u001b[0m\u001b[1;33m\u001b[0m\u001b[1;33m\u001b[0m\u001b[0m\n",
      "\u001b[1;32m~\\miniconda3\\envs\\py37-tf1\\lib\\site-packages\\stochnet_v2\\static_classes\\model.py\u001b[0m in \u001b[0;36m_load_model_from_frozen_graph\u001b[1;34m(self)\u001b[0m\n\u001b[0;32m    306\u001b[0m         \u001b[1;32mif\u001b[0m \u001b[1;32mnot\u001b[0m \u001b[0mos\u001b[0m\u001b[1;33m.\u001b[0m\u001b[0mpath\u001b[0m\u001b[1;33m.\u001b[0m\u001b[0mexists\u001b[0m\u001b[1;33m(\u001b[0m\u001b[0mgraph_path\u001b[0m\u001b[1;33m)\u001b[0m\u001b[1;33m:\u001b[0m\u001b[1;33m\u001b[0m\u001b[1;33m\u001b[0m\u001b[0m\n\u001b[0;32m    307\u001b[0m             raise FileNotFoundError(\n\u001b[1;32m--> 308\u001b[1;33m                 \u001b[1;34mf\"Could not find model's frozen graph file: {graph_path}. Did you save the model?\"\u001b[0m\u001b[1;33m\u001b[0m\u001b[1;33m\u001b[0m\u001b[0m\n\u001b[0m\u001b[0;32m    309\u001b[0m             )\n\u001b[0;32m    310\u001b[0m         \u001b[0mgraph_def\u001b[0m \u001b[1;33m=\u001b[0m \u001b[0mtf\u001b[0m\u001b[1;33m.\u001b[0m\u001b[0mcompat\u001b[0m\u001b[1;33m.\u001b[0m\u001b[0mv1\u001b[0m\u001b[1;33m.\u001b[0m\u001b[0mGraphDef\u001b[0m\u001b[1;33m(\u001b[0m\u001b[1;33m)\u001b[0m\u001b[1;33m\u001b[0m\u001b[1;33m\u001b[0m\u001b[0m\n",
      "\u001b[1;31mFileNotFoundError\u001b[0m: Could not find model's frozen graph file: C:\\Users\\Ivan\\Documents\\StochNetV2\\project_SIR\\models\\0.5\\2001\\frozen_graph.pb. Did you save the model?"
     ]
    }
   ],
   "source": [
    "nn = StochNet(\n",
    "    nb_past_timesteps=1,\n",
    "    nb_features=nb_features,\n",
    "    project_folder=project_folder,\n",
    "    timestep=timestep,\n",
    "    dataset_id=dataset_id,\n",
    "    model_id=model_id,\n",
    "    nb_randomized_params=len(params_to_randomize),\n",
    "    mode='inference'\n",
    ")"
   ]
  },
  {
   "cell_type": "markdown",
   "metadata": {},
   "source": [
    "### Choose model"
   ]
  },
  {
   "cell_type": "code",
   "execution_count": 9,
   "metadata": {},
   "outputs": [],
   "source": [
    "# model = nn\n",
    "model = Model(m, params_to_randomize)"
   ]
  },
  {
   "cell_type": "markdown",
   "metadata": {},
   "source": [
    "## Initialize GridRunner"
   ]
  },
  {
   "cell_type": "code",
   "execution_count": 11,
   "metadata": {},
   "outputs": [
    {
     "data": {
      "text/plain": [
       "(10, 10, 2)"
      ]
     },
     "execution_count": 11,
     "metadata": {},
     "output_type": "execute_result"
    }
   ],
   "source": [
    "w_dir = r'C:\\Users\\Ivan\\Documents\\StochNetV2\\project_' + model_name\n",
    "maybe_create_dir(w_dir)\n",
    "\n",
    "grid_spec = GridSpec(\n",
    "    boundaries=[[0.0, 1.0], [0.0, 1.0]],\n",
    "    grid_size=[10, 10]\n",
    ")\n",
    "\n",
    "gr = GridRunner(\n",
    "    model,\n",
    "    grid_spec,\n",
    "    w_dir,\n",
    "    diffusion_kernel_size=3,\n",
    "    diffusion_sigma=0.7\n",
    ")\n",
    "\n",
    "gr.grid.shape"
   ]
  },
  {
   "cell_type": "markdown",
   "metadata": {},
   "source": [
    "### Set custom diffusion kernel"
   ]
  },
  {
   "cell_type": "code",
   "execution_count": 12,
   "metadata": {},
   "outputs": [],
   "source": [
    "kernel = np.array(\n",
    "    [[0.8, 0.8, 0.8],\n",
    "     [0.8, 1.0, 0.8],\n",
    "     [0.8, 0.8, 0.8]])\n",
    "kernel = np.expand_dims(kernel, -1)\n",
    "gr.diffusion_kernel = kernel"
   ]
  },
  {
   "cell_type": "markdown",
   "metadata": {},
   "source": [
    "### Set initial state"
   ]
  },
  {
   "cell_type": "code",
   "execution_count": 13,
   "metadata": {},
   "outputs": [
    {
     "data": {
      "text/plain": [
       "array([[128.  , 110.  , 127.  ,   3.5 ,   1.3 ],\n",
       "       [119.  ,  45.  ,  87.  ,   4.14,   0.6 ],\n",
       "       [116.  , 140.  , 122.  ,   2.66,   1.01],\n",
       "       [106.  ,  76.  , 116.  ,   4.1 ,   1.03],\n",
       "       [102.  ,  90.  , 133.  ,   3.13,   0.95],\n",
       "       [145.  ,  78.  , 118.  ,   2.28,   1.09],\n",
       "       [190.  , 194.  , 101.  ,   2.27,   1.12],\n",
       "       [190.  , 125.  , 103.  ,   1.84,   1.15],\n",
       "       [174.  , 150.  , 132.  ,   1.94,   1.3 ],\n",
       "       [ 39.  , 151.  , 145.  ,   3.32,   0.91]])"
      ]
     },
     "execution_count": 13,
     "metadata": {},
     "output_type": "execute_result"
    }
   ],
   "source": [
    "n_settings = 10\n",
    "\n",
    "initial_settings = m.get_initial_settings(n_settings)\n",
    "randomized_params = m.get_randomized_parameters(params_to_randomize, n_settings)\n",
    "\n",
    "settings = merge_species_and_param_settings(initial_settings, randomized_params)\n",
    "settings"
   ]
  },
  {
   "cell_type": "raw",
   "metadata": {},
   "source": [
    "settings_idx = 0\n",
    "position = (5, 5)\n",
    "gr.clear_state(mode='all')\n",
    "gr.set_state(settings[...,model.nb_features:][settings_idx], mode='params')\n",
    "gr.set_state(settings[...,:model.nb_features][settings_idx] * 100, position, mode='species')"
   ]
  },
  {
   "cell_type": "markdown",
   "metadata": {},
   "source": [
    "#### or"
   ]
  },
  {
   "cell_type": "raw",
   "metadata": {},
   "source": [
    "gr.clear_state(mode='all')\n",
    "gr.set_state(settings[...,model.nb_features:][0], mode='params')\n",
    "gr.set_state([100, 10, 0, 0], (5, 5), mode='species')\n",
    "gr.set_state([100, 10, 0, 1], (0, 0), mode='species')"
   ]
  },
  {
   "cell_type": "markdown",
   "metadata": {},
   "source": [
    "#### or"
   ]
  },
  {
   "cell_type": "code",
   "execution_count": null,
   "metadata": {},
   "outputs": [],
   "source": [
    "gr.clear_state(mode='all')\n",
    "gr.set_state(settings[..., model.nb_features:][0], mode='params')\n",
    "gr.set_state([10, 0, 0, 0], None, mode='species')\n",
    "gr.set_state([10, 0, 0, 1], (8, 9), mode='species')\n",
    "gr.set_state([10, 0, 0, 5], (9, 9), mode='species')\n",
    "gr.set_state([10, 0, 0, 1], (9, 8), mode='species')"
   ]
  },
  {
   "cell_type": "code",
   "execution_count": 14,
   "metadata": {
    "scrolled": true
   },
   "outputs": [
    {
     "data": {
      "text/plain": [
       "[array([[0., 0., 0., 0., 0., 0., 0., 0., 0., 0.],\n",
       "        [0., 0., 0., 0., 0., 0., 0., 0., 0., 0.],\n",
       "        [0., 0., 0., 0., 0., 0., 0., 0., 0., 0.],\n",
       "        [0., 0., 0., 0., 0., 0., 0., 0., 0., 0.],\n",
       "        [0., 0., 0., 0., 0., 0., 0., 0., 0., 0.],\n",
       "        [0., 0., 0., 0., 0., 0., 0., 0., 0., 0.],\n",
       "        [0., 0., 0., 0., 0., 0., 0., 0., 0., 0.],\n",
       "        [0., 0., 0., 0., 0., 0., 0., 0., 0., 0.],\n",
       "        [0., 0., 0., 0., 0., 0., 0., 0., 0., 0.],\n",
       "        [0., 0., 0., 0., 0., 0., 0., 0., 0., 0.]]),\n",
       " array([[0., 0., 0., 0., 0., 0., 0., 0., 0., 0.],\n",
       "        [0., 0., 0., 0., 0., 0., 0., 0., 0., 0.],\n",
       "        [0., 0., 0., 0., 0., 0., 0., 0., 0., 0.],\n",
       "        [0., 0., 0., 0., 0., 0., 0., 0., 0., 0.],\n",
       "        [0., 0., 0., 0., 0., 0., 0., 0., 0., 0.],\n",
       "        [0., 0., 0., 0., 0., 0., 0., 0., 0., 0.],\n",
       "        [0., 0., 0., 0., 0., 0., 0., 0., 0., 0.],\n",
       "        [0., 0., 0., 0., 0., 0., 0., 0., 0., 0.],\n",
       "        [0., 0., 0., 0., 0., 0., 0., 0., 0., 0.],\n",
       "        [0., 0., 0., 0., 0., 0., 0., 0., 0., 0.]]),\n",
       " array([[0., 0., 0., 0., 0., 0., 0., 0., 0., 0.],\n",
       "        [0., 0., 0., 0., 0., 0., 0., 0., 0., 0.],\n",
       "        [0., 0., 0., 0., 0., 0., 0., 0., 0., 0.],\n",
       "        [0., 0., 0., 0., 0., 0., 0., 0., 0., 0.],\n",
       "        [0., 0., 0., 0., 0., 0., 0., 0., 0., 0.],\n",
       "        [0., 0., 0., 0., 0., 0., 0., 0., 0., 0.],\n",
       "        [0., 0., 0., 0., 0., 0., 0., 0., 0., 0.],\n",
       "        [0., 0., 0., 0., 0., 0., 0., 0., 0., 0.],\n",
       "        [0., 0., 0., 0., 0., 0., 0., 0., 0., 0.],\n",
       "        [0., 0., 0., 0., 0., 0., 0., 0., 0., 0.]]),\n",
       " array([[0., 0., 0., 0., 0., 0., 0., 0., 0., 0.],\n",
       "        [0., 0., 0., 0., 0., 0., 0., 0., 0., 0.],\n",
       "        [0., 0., 0., 0., 0., 0., 0., 0., 0., 0.],\n",
       "        [0., 0., 0., 0., 0., 0., 0., 0., 0., 0.],\n",
       "        [0., 0., 0., 0., 0., 0., 0., 0., 0., 0.],\n",
       "        [0., 0., 0., 0., 0., 0., 0., 0., 0., 0.],\n",
       "        [0., 0., 0., 0., 0., 0., 0., 0., 0., 0.],\n",
       "        [0., 0., 0., 0., 0., 0., 0., 0., 0., 0.],\n",
       "        [0., 0., 0., 0., 0., 0., 0., 0., 0., 0.],\n",
       "        [0., 0., 0., 0., 0., 0., 0., 0., 0., 0.]]),\n",
       " array([[0., 0., 0., 0., 0., 0., 0., 0., 0., 0.],\n",
       "        [0., 0., 0., 0., 0., 0., 0., 0., 0., 0.],\n",
       "        [0., 0., 0., 0., 0., 0., 0., 0., 0., 0.],\n",
       "        [0., 0., 0., 0., 0., 0., 0., 0., 0., 0.],\n",
       "        [0., 0., 0., 0., 0., 0., 0., 0., 0., 0.],\n",
       "        [0., 0., 0., 0., 0., 0., 0., 0., 0., 0.],\n",
       "        [0., 0., 0., 0., 0., 0., 0., 0., 0., 0.],\n",
       "        [0., 0., 0., 0., 0., 0., 0., 0., 0., 0.],\n",
       "        [0., 0., 0., 0., 0., 0., 0., 0., 0., 0.],\n",
       "        [0., 0., 0., 0., 0., 0., 0., 0., 0., 0.]])]"
      ]
     },
     "execution_count": 14,
     "metadata": {},
     "output_type": "execute_result"
    }
   ],
   "source": [
    "[gr.state[..., i] for i in range(gr.state.shape[-1])]"
   ]
  },
  {
   "cell_type": "code",
   "execution_count": null,
   "metadata": {},
   "outputs": [],
   "source": []
  },
  {
   "cell_type": "markdown",
   "metadata": {},
   "source": [
    "### Single diffusion step"
   ]
  },
  {
   "cell_type": "code",
   "execution_count": 15,
   "metadata": {},
   "outputs": [
    {
     "ename": "ValueError",
     "evalue": "species_idx=3, out of range [0, 2].",
     "output_type": "error",
     "traceback": [
      "\u001b[1;31m---------------------------------------------------------------------------\u001b[0m",
      "\u001b[1;31mValueError\u001b[0m                                Traceback (most recent call last)",
      "\u001b[1;32m~\\AppData\\Local\\Temp/ipykernel_8280/2567321468.py\u001b[0m in \u001b[0;36m<module>\u001b[1;34m\u001b[0m\n\u001b[0;32m      2\u001b[0m     gr.diffusion_step(\n\u001b[0;32m      3\u001b[0m         \u001b[0mspecies_idx\u001b[0m\u001b[1;33m=\u001b[0m\u001b[1;36m3\u001b[0m\u001b[1;33m,\u001b[0m\u001b[1;33m\u001b[0m\u001b[1;33m\u001b[0m\u001b[0m\n\u001b[1;32m----> 4\u001b[1;33m         \u001b[0mconservation\u001b[0m\u001b[1;33m=\u001b[0m\u001b[1;32mFalse\u001b[0m\u001b[1;33m,\u001b[0m\u001b[1;33m\u001b[0m\u001b[1;33m\u001b[0m\u001b[0m\n\u001b[0m\u001b[0;32m      5\u001b[0m     )\n",
      "\u001b[1;32m~\\miniconda3\\envs\\py37-tf1\\lib\\site-packages\\stochnet_v2\\static_classes\\grid_runner.py\u001b[0m in \u001b[0;36mdiffusion_step\u001b[1;34m(self, species_idx, conservation)\u001b[0m\n\u001b[0;32m    218\u001b[0m             \u001b[1;32mraise\u001b[0m \u001b[0mValueError\u001b[0m\u001b[1;33m(\u001b[0m\u001b[1;34m'Uneven kernel shape.'\u001b[0m\u001b[1;33m)\u001b[0m\u001b[1;33m\u001b[0m\u001b[1;33m\u001b[0m\u001b[0m\n\u001b[0;32m    219\u001b[0m         \u001b[1;32mif\u001b[0m \u001b[0mspecies_idx\u001b[0m \u001b[1;32mis\u001b[0m \u001b[1;32mnot\u001b[0m \u001b[1;32mNone\u001b[0m \u001b[1;32mand\u001b[0m \u001b[1;32mnot\u001b[0m \u001b[0mspecies_idx\u001b[0m \u001b[1;33m<=\u001b[0m \u001b[0mself\u001b[0m\u001b[1;33m.\u001b[0m\u001b[0mmodel\u001b[0m\u001b[1;33m.\u001b[0m\u001b[0mnb_features\u001b[0m \u001b[1;33m-\u001b[0m \u001b[1;36m1\u001b[0m\u001b[1;33m:\u001b[0m\u001b[1;33m\u001b[0m\u001b[1;33m\u001b[0m\u001b[0m\n\u001b[1;32m--> 220\u001b[1;33m             \u001b[1;32mraise\u001b[0m \u001b[0mValueError\u001b[0m\u001b[1;33m(\u001b[0m\u001b[1;34mf'species_idx={species_idx}, out of range [0, {self.model.nb_features - 1}].'\u001b[0m\u001b[1;33m)\u001b[0m\u001b[1;33m\u001b[0m\u001b[1;33m\u001b[0m\u001b[0m\n\u001b[0m\u001b[0;32m    221\u001b[0m         \u001b[0mk\u001b[0m \u001b[1;33m=\u001b[0m \u001b[0mself\u001b[0m\u001b[1;33m.\u001b[0m\u001b[0mdiffusion_kernel\u001b[0m\u001b[1;33m.\u001b[0m\u001b[0mshape\u001b[0m\u001b[1;33m[\u001b[0m\u001b[1;36m0\u001b[0m\u001b[1;33m]\u001b[0m\u001b[1;33m\u001b[0m\u001b[1;33m\u001b[0m\u001b[0m\n\u001b[0;32m    222\u001b[0m \u001b[1;33m\u001b[0m\u001b[0m\n",
      "\u001b[1;31mValueError\u001b[0m: species_idx=3, out of range [0, 2]."
     ]
    }
   ],
   "source": [
    "for _ in range(1):\n",
    "    gr.diffusion_step(\n",
    "        species_idx=3,\n",
    "        conservation=False,\n",
    "    )"
   ]
  },
  {
   "cell_type": "markdown",
   "metadata": {},
   "source": [
    "### Single max_propagation step"
   ]
  },
  {
   "cell_type": "code",
   "execution_count": null,
   "metadata": {},
   "outputs": [],
   "source": [
    "for _ in range(1):\n",
    "    gr.max_propagation_step(\n",
    "        species_idx=3,\n",
    "        alpha=0.5,\n",
    "    )"
   ]
  },
  {
   "cell_type": "markdown",
   "metadata": {},
   "source": [
    "### Model steps"
   ]
  },
  {
   "cell_type": "code",
   "execution_count": null,
   "metadata": {
    "scrolled": true
   },
   "outputs": [],
   "source": [
    "for _ in range(3):\n",
    "    start = time()\n",
    "    gr.model_step()\n",
    "    elapsed = time() - start\n",
    "    print(f'.. elapsed {elapsed:.2f}')"
   ]
  },
  {
   "cell_type": "code",
   "execution_count": null,
   "metadata": {},
   "outputs": [],
   "source": []
  },
  {
   "cell_type": "markdown",
   "metadata": {},
   "source": [
    "### Dsplay state"
   ]
  },
  {
   "cell_type": "code",
   "execution_count": null,
   "metadata": {},
   "outputs": [],
   "source": [
    "n = gr.model.nb_features\n",
    "\n",
    "fig, axes = plt.subplots(1, n, figsize=(n * 4, 4))\n",
    "for i in range(n):\n",
    "    ax = axes[i]\n",
    "    ax.imshow(gr.state[..., i])\n",
    "    ax.set_xlim([0, 10])\n",
    "    ax.set_ylim([10, 0])\n",
    "    pcm = ax.pcolormesh(gr.state[..., i], cmap=None)\n",
    "    fig.colorbar(pcm, ax=ax, shrink=0.7)\n",
    "plt.tight_layout()"
   ]
  },
  {
   "cell_type": "code",
   "execution_count": null,
   "metadata": {},
   "outputs": [],
   "source": [
    "gr.state[..., 3]"
   ]
  },
  {
   "cell_type": "code",
   "execution_count": null,
   "metadata": {},
   "outputs": [],
   "source": []
  },
  {
   "cell_type": "code",
   "execution_count": null,
   "metadata": {
    "scrolled": true
   },
   "outputs": [],
   "source": [
    "states = gr.run_model(100, 1, 5, propagation_mode='mp', species_idx=3, alpha=0.33)"
   ]
  },
  {
   "cell_type": "code",
   "execution_count": null,
   "metadata": {},
   "outputs": [],
   "source": [
    "np.save(os.path.join(gr.save_dir, 'states'), states)"
   ]
  },
  {
   "cell_type": "code",
   "execution_count": null,
   "metadata": {},
   "outputs": [],
   "source": []
  },
  {
   "cell_type": "markdown",
   "metadata": {},
   "source": [
    "## Animated figure"
   ]
  },
  {
   "cell_type": "raw",
   "metadata": {},
   "source": [
    "n = gr.model.nb_features\n",
    "names = gr.model.model.get_species_names()\n",
    "cmap = 'viridis'\n",
    "\n",
    "fig, axes = plt.subplots(1, n, figsize=(n * 4, 4))\n",
    "\n",
    "all_images = []\n",
    "for species_idx in range(n):\n",
    "    \n",
    "    ax = axes[species_idx]\n",
    "    ax.set_title(names[species_idx])\n",
    "    images = []\n",
    "\n",
    "    for state in states:\n",
    "        im = ax.imshow(state[..., species_idx], animated=True)\n",
    "        images.append(im)\n",
    "\n",
    "    vmin = min(image.get_array().min() for image in images)\n",
    "    vmax = max(image.get_array().max() for image in images)\n",
    "    # vmax = 140.\n",
    "    norm = colors.Normalize(vmin=vmin, vmax=vmax)\n",
    "    for im in images:\n",
    "        im.set_norm(norm)\n",
    "\n",
    "    fig.colorbar(images[0], ax=ax, shrink=0.75)\n",
    "\n",
    "    def update(changed_image):\n",
    "        for im in images:\n",
    "            if (changed_image.get_cmap() != im.get_cmap()\n",
    "                    or changed_image.get_clim() != im.get_clim()):\n",
    "                im.set_cmap(changed_image.get_cmap())\n",
    "                im.set_clim(changed_image.get_clim())\n",
    "\n",
    "    for im in images:\n",
    "        im.callbacksSM.connect('changed', update)\n",
    "    all_images.append(images)\n",
    "\n",
    "plt.tight_layout()"
   ]
  },
  {
   "cell_type": "markdown",
   "metadata": {},
   "source": [
    "## Special animation for Bees: \n",
    "sum 0th (normal bee) and 1st (aggressive bee) species to get population of alive bees"
   ]
  },
  {
   "cell_type": "code",
   "execution_count": null,
   "metadata": {},
   "outputs": [],
   "source": [
    "n = 3\n",
    "names = gr.model.model.get_species_names()\n",
    "cmap = 'viridis'\n",
    "\n",
    "fig, axes = plt.subplots(1, n, figsize=(n * 4, 4))\n",
    "\n",
    "all_images = []\n",
    "for species_idx in range(n):\n",
    "    \n",
    "    ax = axes[species_idx]\n",
    "    ax.set_title(names[species_idx+1] if species_idx > 0 else 'Alive Bees')\n",
    "    images = []\n",
    "\n",
    "    for state in states:\n",
    "        im = ax.imshow(state[..., species_idx+1]\n",
    "                       if species_idx > 0\n",
    "                       else state[..., 0] + state[..., 1], animated=True)\n",
    "        images.append(im)\n",
    "\n",
    "    vmin = min(image.get_array().min() for image in images)\n",
    "    vmax = max(image.get_array().max() for image in images)\n",
    "    # vmax = 140.\n",
    "    norm = colors.Normalize(vmin=vmin, vmax=vmax)\n",
    "    for im in images:\n",
    "        im.set_norm(norm)\n",
    "\n",
    "    fig.colorbar(images[0], ax=ax, shrink=0.75)\n",
    "\n",
    "    def update(changed_image):\n",
    "        for im in images:\n",
    "            if (changed_image.get_cmap() != im.get_cmap()\n",
    "                    or changed_image.get_clim() != im.get_clim()):\n",
    "                im.set_cmap(changed_image.get_cmap())\n",
    "                im.set_clim(changed_image.get_clim())\n",
    "\n",
    "    for im in images:\n",
    "        im.callbacksSM.connect('changed', update)\n",
    "    all_images.append(images)\n",
    "\n",
    "plt.tight_layout()"
   ]
  },
  {
   "cell_type": "markdown",
   "metadata": {},
   "source": [
    "## Make a GIF"
   ]
  },
  {
   "cell_type": "code",
   "execution_count": null,
   "metadata": {
    "scrolled": true
   },
   "outputs": [],
   "source": [
    "a = [[images[i] for images in all_images] for i in range(len(all_images[0]))]\n",
    "ani = animation.ArtistAnimation(fig, a, interval=100, blit=True, repeat_delay=2000)\n",
    "ani.save(os.path.join(gr.save_dir, f'animated_progress.gif'))"
   ]
  },
  {
   "cell_type": "code",
   "execution_count": null,
   "metadata": {},
   "outputs": [],
   "source": []
  },
  {
   "cell_type": "code",
   "execution_count": null,
   "metadata": {},
   "outputs": [],
   "source": []
  },
  {
   "cell_type": "markdown",
   "metadata": {},
   "source": [
    "### Separate animation for every species"
   ]
  },
  {
   "cell_type": "code",
   "execution_count": null,
   "metadata": {},
   "outputs": [],
   "source": [
    "for species_idx in range(gr.model.nb_features):\n",
    "\n",
    "    fig, ax = plt.subplots(1, 1, figsize=(8, 8))\n",
    "    cmap = 'viridis'\n",
    "    images = []\n",
    "\n",
    "    for state in states:\n",
    "        im = ax.imshow(state[..., species_idx], animated=True)\n",
    "        images.append(im)\n",
    "\n",
    "    vmin = min(image.get_array().min() for image in images)\n",
    "    vmax = max(image.get_array().max() for image in images)\n",
    "    # vmax = 140.\n",
    "    norm = colors.Normalize(vmin=vmin, vmax=vmax)\n",
    "    for im in images:\n",
    "        im.set_norm(norm)\n",
    "\n",
    "    fig.colorbar(images[0], ax=ax, shrink=0.75)\n",
    "\n",
    "    def update(changed_image):\n",
    "        for im in images:\n",
    "            if (changed_image.get_cmap() != im.get_cmap()\n",
    "                    or changed_image.get_clim() != im.get_clim()):\n",
    "                im.set_cmap(changed_image.get_cmap())\n",
    "                im.set_clim(changed_image.get_clim())\n",
    "\n",
    "    for im in images:\n",
    "        im.callbacksSM.connect('changed', update)\n",
    "\n",
    "    plt.tight_layout()\n",
    "\n",
    "    ani = animation.ArtistAnimation(fig, [[im] for im in images], interval=200, blit=True, repeat_delay=2000)\n",
    "    ani.save(os.path.join(gr.save_dir, f'nn_animated_progress_{species_idx}.gif'))"
   ]
  },
  {
   "cell_type": "code",
   "execution_count": null,
   "metadata": {},
   "outputs": [],
   "source": []
  },
  {
   "cell_type": "code",
   "execution_count": null,
   "metadata": {},
   "outputs": [],
   "source": []
  },
  {
   "cell_type": "code",
   "execution_count": null,
   "metadata": {},
   "outputs": [],
   "source": []
  }
 ],
 "metadata": {
  "kernelspec": {
   "display_name": "py37-tf1-kernel",
   "language": "python",
   "name": "py37-tf1-kernel"
  },
  "language_info": {
   "codemirror_mode": {
    "name": "ipython",
    "version": 3
   },
   "file_extension": ".py",
   "mimetype": "text/x-python",
   "name": "python",
   "nbconvert_exporter": "python",
   "pygments_lexer": "ipython3",
   "version": "3.7.11"
  }
 },
 "nbformat": 4,
 "nbformat_minor": 2
}
